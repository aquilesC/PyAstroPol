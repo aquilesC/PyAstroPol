{
 "cells": [
  {
   "cell_type": "markdown",
   "metadata": {},
   "source": [
    "## Astronomical telescope\n",
    "In this example, Cassagrain telescope from the previous example is extended. Five different positions of an equatorial mount telescope while tracking an astronomical source are illustrated here. "
   ]
  },
  {
   "cell_type": "code",
   "execution_count": 1,
   "metadata": {
    "collapsed": false
   },
   "outputs": [],
   "source": [
    "%matplotlib tk\n",
    "import numpy as np\n",
    "import sys\n",
    "from matplotlib import pyplot as plt\n",
    "from mpl_toolkits.mplot3d import Axes3D\n",
    "import random as rd\n",
    "import copy as cp\n",
    "from datetime import datetime as dt\n",
    "sys.path.append('..')\n",
    "from PyAstroPol import *\n",
    "roundOffDisplay(5)"
   ]
  },
  {
   "cell_type": "code",
   "execution_count": 2,
   "metadata": {
    "collapsed": false
   },
   "outputs": [],
   "source": [
    "Fig = plt.figure()                                             \n",
    "Ax = Fig.add_subplot(111, projection='3d')\n",
    "for i in np.linspace(-60,60,5):                                     # Change Hour Angle \n",
    "    S = AstroSource(10, Clear=180, Dec=30.0, HA=i, Lat=30.0)        # Astronomical source\n",
    "    #\n",
    "    M1 = Surface(200, R=-2000, Mirror=True, n2=1.1+6.8j, iDia=40)   # Primary mirror with hole\n",
    "    M1.translateOrigin(z=400)                                                       \n",
    "    M1.rotateAboutY(S.ThetaY)                                       # Adjust orientation to source\n",
    "    M1.rotateAboutX(S.ThetaX)\n",
    "    #\n",
    "    M2 = Surface(100, R=-500, Mirror=True, n2=1.1+6.8j)             # Secondary mirror with hole\n",
    "    M2.translateOrigin(z=-400)\n",
    "    M2.rotateAboutY(S.ThetaY)                                       # Adjust orientation to source\n",
    "    M2.rotateAboutX(S.ThetaX)\n",
    "    #       \n",
    "    D = Detector(50)                                                # Usual detector\n",
    "    D.translateOrigin(z=520)\n",
    "    D.rotateAboutY(S.ThetaY)                                        # Adjust orientation to source\n",
    "    D.rotateAboutX(S.ThetaX)\n",
    "    #\n",
    "    Sys = System(S, [M1, M2], D)\n",
    "    Sys.propagateRays()\n",
    "    Sys.draw(Ax)\n",
    "    adjustAspect(Ax, 2000.0)"
   ]
  }
 ],
 "metadata": {
  "kernelspec": {
   "display_name": "Python 3",
   "language": "python",
   "name": "python3"
  },
  "language_info": {
   "codemirror_mode": {
    "name": "ipython",
    "version": 3
   },
   "file_extension": ".py",
   "mimetype": "text/x-python",
   "name": "python",
   "nbconvert_exporter": "python",
   "pygments_lexer": "ipython3",
   "version": "3.6.0-final"
  }
 },
 "nbformat": 4,
 "nbformat_minor": 2
}