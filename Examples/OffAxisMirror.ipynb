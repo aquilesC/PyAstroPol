{
 "cells": [
  {
   "cell_type": "code",
   "execution_count": 1,
   "metadata": {
    "collapsed": false
   },
   "outputs": [],
   "source": [
    "%matplotlib tk\n",
    "import numpy as np\n",
    "import sys\n",
    "from matplotlib import pyplot as plt\n",
    "from mpl_toolkits.mplot3d import Axes3D\n",
    "import random as rd\n",
    "import copy as cp\n",
    "from datetime import datetime as dt\n",
    "#\n",
    "sys.path.append('..')\n",
    "from PyAstroPol import *"
   ]
  },
  {
   "cell_type": "code",
   "execution_count": 2,
   "metadata": {
    "collapsed": false
   },
   "outputs": [
    {
     "name": "stderr",
     "output_type": "stream",
     "text": [
      "..\\PyAstroPol\\Surface.py:219: RuntimeWarning: divide by zero encountered in true_divide\n",
      "  dplus = (-b+np.sqrt(b**2-4.0*a*c))/2.0/a\n",
      "..\\PyAstroPol\\Surface.py:220: RuntimeWarning: invalid value encountered in true_divide\n",
      "  dminus = (-b-np.sqrt(b**2-4.0*a*c))/2.0/a\n"
     ]
    }
   ],
   "source": [
    "S = Source(1000000, Clear=45)                                           # Source for ray analysis\n",
    "S.rotateAboutX(180.0)                                                   # \n",
    "S.translateOrigin(z=20000.0)                                            # Adjust source position\n",
    "#\n",
    "Sd = Source(20, Clear=100.0)                                            # Source for ray display\n",
    "Sd.rotateAboutX(180.0)                                                  # \n",
    "Sd.translateOrigin(z=500.0)                                             # Adjust source position\n",
    "#\n",
    "M1 = Surface(100.0, R=1000.0, K=-1.0, Mirror=True, n2=1.1+6.8j, OffAxis=True, OffAxDist=100, OffAxAz=0.0)\n",
    "M1.propagateRays(Sd)                                                    # \n",
    "#\n",
    "D = Detector(20)                                                        # Detector\n",
    "D.translateOrigin(x=-100.0, z=500)                                      # Adjust detector position\n",
    "D.propagateRays(M1.rRays)                                               # Propagate rays"
   ]
  },
  {
   "cell_type": "code",
   "execution_count": 5,
   "metadata": {
    "collapsed": false
   },
   "outputs": [
    {
     "name": "stderr",
     "output_type": "stream",
     "text": [
      "..\\PyAstroPol\\Surface.py:219: RuntimeWarning: divide by zero encountered in true_divide\n",
      "  dplus = (-b+np.sqrt(b**2-4.0*a*c))/2.0/a\n",
      "..\\PyAstroPol\\Surface.py:220: RuntimeWarning: invalid value encountered in true_divide\n",
      "  dminus = (-b-np.sqrt(b**2-4.0*a*c))/2.0/a\n"
     ]
    }
   ],
   "source": [
    "Sys = System(S, [M1], D, dRays=Sd)                          # Complete optical system\n",
    "Sys.propagateRays()                                             # Propagate rays through system\n",
    "#\n",
    "Fig = plt.figure()                                             \n",
    "Ax = Fig.add_subplot(111, projection='3d')\n",
    "Sys.draw(Ax)                                                    # Draw optical system\n",
    "adjustAspect(Ax, 500, z=250)                     # Adjust 3D space "
   ]
  },
  {
   "cell_type": "code",
   "execution_count": 6,
   "metadata": {
    "collapsed": false
   },
   "outputs": [
    {
     "name": "stdout",
     "output_type": "stream",
     "text": [
      "System Mueller matrix is : \n",
      " [[ 1.00000000e+00 -4.56216105e-04  2.15584439e-17  3.86785786e-20]\n",
      " [-4.56216105e-04  1.00000000e+00 -9.28312395e-14 -1.36761531e-16]\n",
      " [ 7.03612663e-16  9.26657877e-14  9.99995569e-01  2.94167052e-03]\n",
      " [-9.85057728e-16  3.51806331e-16 -2.94167052e-03  9.99995569e-01]]\n",
      "Transmission coefficient is:  0.8674539203078078\n"
     ]
    }
   ],
   "source": [
    "MM, Tra = Sys.getSystemMuellerMatrix()                          # Optical system's Mueller matrix\n",
    "print('System Mueller matrix is : \\n', MM)\n",
    "print('Transmission coefficient is: ', Tra)"
   ]
  },
  {
   "cell_type": "code",
   "execution_count": 3,
   "metadata": {
    "collapsed": false
   },
   "outputs": [],
   "source": [
    "Fig = plt.figure()                                                      # Create figure\n",
    "Ax = Fig.add_subplot(111, projection='3d')                              # Figure 3d projection\n",
    "M1.draw(Ax, color='r')                                                  \n",
    "M1.drawRays(Ax, color='k')\n",
    "# M1.rRays.drawRays(Ax, 20000.0, color='k')\n",
    "D.draw(Ax, color='r')\n",
    "D.drawRays(Ax, color='k')\n",
    "adjustAspect(Ax, 500.0, z=250.0)                                        # Adjust 3D space "
   ]
  }
 ],
 "metadata": {
  "kernelspec": {
   "display_name": "Python 3",
   "language": "python",
   "name": "python3"
  },
  "language_info": {
   "codemirror_mode": {
    "name": "ipython",
    "version": 3
   },
   "file_extension": ".py",
   "mimetype": "text/x-python",
   "name": "python",
   "nbconvert_exporter": "python",
   "pygments_lexer": "ipython3",
   "version": "3.6.0"
  }
 },
 "nbformat": 4,
 "nbformat_minor": 2
}
