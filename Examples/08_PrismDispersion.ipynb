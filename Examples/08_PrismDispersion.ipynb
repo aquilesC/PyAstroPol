{
 "cells": [
  {
   "cell_type": "markdown",
   "metadata": {},
   "source": [
    "## Prism\n",
    "Two prism surfaces are defined to illustrate dispersion. These surface are of circular aperture. Sources wavelengths are changes for the second system definition. Spot diagram illustrates dispersion."
   ]
  },
  {
   "cell_type": "code",
   "execution_count": 1,
   "metadata": {
    "collapsed": false
   },
   "outputs": [],
   "source": [
    "%matplotlib tk\n",
    "import numpy as np\n",
    "import sys\n",
    "from matplotlib import pyplot as plt\n",
    "from mpl_toolkits.mplot3d import Axes3D\n",
    "import random as rd\n",
    "import copy as cp\n",
    "from datetime import datetime as dt\n",
    "#\n",
    "sys.path.append('..')\n",
    "from PyAstroPol import *\n",
    "roundOffDisplay(5)"
   ]
  },
  {
   "cell_type": "code",
   "execution_count": 2,
   "metadata": {
    "collapsed": false
   },
   "outputs": [],
   "source": [
    "Source_analysis = Source(10000, Clear=40)                       # Source for ray analysis\n",
    "Source_analysis.rotateAboutX(-30)\n",
    "Source_analysis.translateOrigin(y=-60, z=-100)                  # Adjust source position\n",
    "#\n",
    "Source_display = Source(20, Clear=40)                           # Source for ray display\n",
    "Source_display.rotateAboutX(-30)\n",
    "Source_display.translateOrigin(y=-60, z=-100)                   # Adjust source (display) position\n",
    "#\n",
    "FrontSurf = Surface(100, n1=1.0, n2='N-BK7')                    # Front surface of the prism\n",
    "FrontSurf.rotateAboutX(30)                                      \n",
    "BackSurf = Surface(100, n1='N-BK7', n2=1.0)                     # Back surface of the prism\n",
    "BackSurf.rotateAboutX(-30)\n",
    "BackSurf.translateOrigin(z=50)\n",
    "#\n",
    "Detector_1 = Detector(200)                                      # Detector\n",
    "Detector_1.rotateAboutX(45)\n",
    "Detector_1.translateOrigin(y=-50, z=200)                        # Adjust detector position"
   ]
  },
  {
   "cell_type": "code",
   "execution_count": 4,
   "metadata": {
    "collapsed": false
   },
   "outputs": [],
   "source": [
    "Sys = System(Source_analysis, [FrontSurf, BackSurf], \n",
    "             Detector_1, dRays=Source_display)                          # Complete optical system\n",
    "Sys.propagateRays()                                                     # Propagate rays through system"
   ]
  },
  {
   "cell_type": "code",
   "execution_count": 5,
   "metadata": {
    "collapsed": false
   },
   "outputs": [],
   "source": [
    "Source_analysis.Wavelength = 0.200                                      # Change the wavelength\n",
    "Source_display.Wavelength = 0.200                                      # Change the wavelength\n",
    "Sys2 = System(Source_analysis, [FrontSurf, BackSurf], \n",
    "             Detector_1, dRays=Source_display)                          # Complete optical system\n",
    "Sys2.propagateRays()                                                    # Propagate rays through system"
   ]
  },
  {
   "cell_type": "code",
   "execution_count": 6,
   "metadata": {
    "collapsed": false
   },
   "outputs": [],
   "source": [
    "Fig = plt.figure()                                             \n",
    "Ax = Fig.add_subplot(111, projection='3d')\n",
    "Sys.draw(Ax)                                                # Draw optical system\n",
    "Sys2.draw(Ax)\n",
    "adjustAspect(Ax, 400)                                       # Adjust 3D space"
   ]
  },
  {
   "cell_type": "code",
   "execution_count": 7,
   "metadata": {
    "collapsed": false
   },
   "outputs": [],
   "source": [
    "Fig = plt.figure()\n",
    "Ax = Fig.add_subplot(111, aspect='equal')                       \n",
    "Sys.drawSpotDiagram(Ax, s=0.1, color='r')                   # Draw spot diagram\n",
    "Sys2.drawSpotDiagram(Ax, s=0.1, color='b')                  # Draw off-axis field spot"
   ]
  },
  {
   "cell_type": "code",
   "execution_count": 8,
   "metadata": {
    "collapsed": false,
    "tags": []
   },
   "outputs": [
    {
     "output_type": "stream",
     "name": "stdout",
     "text": "System Mueller matrix is : \n [[ 1.00000 -0.43110  0.00000 -0.00000]\n [-0.43110  1.00000 -0.00000 -0.00000]\n [ 0.00000 -0.00000  0.90231 -0.00000]\n [ 0.00000  0.00000  0.00000  0.90231]]\nTransmission coefficient is:  0.953237134814519\n"
    }
   ],
   "source": [
    "MM, Tra = Sys.getSystemMuellerMatrix()                      # Optical system's Mueller matrix\n",
    "print('System Mueller matrix is : \\n', MM)\n",
    "print('Transmission coefficient is: ', Tra)  "
   ]
  }
 ],
 "metadata": {
  "kernelspec": {
   "display_name": "Python 3",
   "language": "python",
   "name": "python3"
  },
  "language_info": {
   "codemirror_mode": {
    "name": "ipython",
    "version": 3
   },
   "file_extension": ".py",
   "mimetype": "text/x-python",
   "name": "python",
   "nbconvert_exporter": "python",
   "pygments_lexer": "ipython3",
   "version": "3.6.0-final"
  }
 },
 "nbformat": 4,
 "nbformat_minor": 2
}