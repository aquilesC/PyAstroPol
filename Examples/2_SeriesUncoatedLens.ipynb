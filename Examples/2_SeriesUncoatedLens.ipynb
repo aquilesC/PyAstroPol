{
 "cells": [
  {
   "cell_type": "code",
   "execution_count": 1,
   "metadata": {
    "collapsed": true
   },
   "outputs": [],
   "source": [
    "%matplotlib tk\n",
    "import numpy as np\n",
    "import sys\n",
    "from matplotlib import pyplot as plt\n",
    "from mpl_toolkits.mplot3d import Axes3D\n",
    "import random as rd\n",
    "import copy as cp\n",
    "from datetime import datetime as dt\n",
    "#\n",
    "sys.path.append('..')\n",
    "from PyAstroPol import *"
   ]
  },
  {
   "cell_type": "code",
   "execution_count": 2,
   "metadata": {
    "collapsed": false
   },
   "outputs": [],
   "source": [
    "Source_analysis = Source(10000, Clear=40)                               # Source for ray analysis\n",
    "Source_analysis.translateOrigin(z=-100)                                 # Adjust source position\n",
    "#\n",
    "Source_display = Source(20, Clear=40)                                   # Source for ray display\n",
    "Source_display.translateOrigin(z=-100)                                  # Adjust source (display) position\n",
    "#\n",
    "Lens_1 = UncoatedLens(50, 10, R1=200, R2=-200, n=2.05)                  # Lens\n",
    "Lens_2 = UncoatedLens(50, 10, R1=200, R2=-200, n=2.05)                  # Lens\n",
    "Lens_2.translateOrigin(z=200)\n",
    "Lens_3 = UncoatedLens(50, 10, R1=200, R2=-200, n=2.05)                  # Lens\n",
    "Lens_3.translateOrigin(z=300)\n",
    "#\n",
    "Detector_1 = Detector(20)                                               # Detector\n",
    "Detector_1.translateOrigin(z=390)                                       # Adjust detector position"
   ]
  },
  {
   "cell_type": "code",
   "execution_count": 3,
   "metadata": {
    "collapsed": false
   },
   "outputs": [
    {
     "name": "stderr",
     "output_type": "stream",
     "text": [
      "..\\PyAstroPol\\Surface.py:290: RuntimeWarning: invalid value encountered in true_divide\n",
      "  tCosines = (self.iRays.oCosines + self.nCosines*np.cos(self.iTheta))/np.sin(self.iTheta)\n",
      "..\\PyAstroPol\\Functions.py:26: RuntimeWarning: invalid value encountered in true_divide\n",
      "  V = V/np.reshape(np.linalg.norm(V, axis=1), newshape=(Vs[0],1))\n",
      "..\\PyAstroPol\\Surface.py:225: RuntimeWarning: divide by zero encountered in true_divide\n",
      "  dplus = (-b+np.sqrt(b**2-4.0*a*c))/2.0/a\n",
      "..\\PyAstroPol\\Surface.py:226: RuntimeWarning: invalid value encountered in true_divide\n",
      "  dminus = (-b-np.sqrt(b**2-4.0*a*c))/2.0/a\n"
     ]
    }
   ],
   "source": [
    "Sys = System(Source_analysis, [Lens_1, Lens_2, Lens_3], \n",
    "             Detector_1, dRays=Source_display)                               # Complete optical system\n",
    "Sys.propagateRays()                                                          # Propagate rays through system"
   ]
  },
  {
   "cell_type": "code",
   "execution_count": 4,
   "metadata": {
    "collapsed": false
   },
   "outputs": [
    {
     "name": "stderr",
     "output_type": "stream",
     "text": [
      "..\\PyAstroPol\\Surface.py:290: RuntimeWarning: invalid value encountered in true_divide\n",
      "  tCosines = (self.iRays.oCosines + self.nCosines*np.cos(self.iTheta))/np.sin(self.iTheta)\n",
      "..\\PyAstroPol\\Functions.py:26: RuntimeWarning: invalid value encountered in true_divide\n",
      "  V = V/np.reshape(np.linalg.norm(V, axis=1), newshape=(Vs[0],1))\n",
      "..\\PyAstroPol\\Surface.py:225: RuntimeWarning: divide by zero encountered in true_divide\n",
      "  dplus = (-b+np.sqrt(b**2-4.0*a*c))/2.0/a\n",
      "..\\PyAstroPol\\Surface.py:226: RuntimeWarning: invalid value encountered in true_divide\n",
      "  dminus = (-b-np.sqrt(b**2-4.0*a*c))/2.0/a\n"
     ]
    }
   ],
   "source": [
    "Fig = plt.figure()                                             # Create figure\n",
    "Ax = Fig.add_subplot(111, projection='3d')                     # Figure 3d projection\n",
    "Sys.draw(Ax)                                                   # Draw optical system\n",
    "adjustAspect(Ax, 600, z=200)                                   # Adjust 3D space"
   ]
  },
  {
   "cell_type": "code",
   "execution_count": 5,
   "metadata": {
    "collapsed": true
   },
   "outputs": [],
   "source": [
    "Fig = plt.figure()\n",
    "Ax = Fig.add_subplot(111, aspect='equal')                       \n",
    "Sys.drawSpotDiagram(Ax, s=0.1, color='r')                   # Draw spot diagram"
   ]
  },
  {
   "cell_type": "code",
   "execution_count": 6,
   "metadata": {
    "collapsed": false
   },
   "outputs": [
    {
     "name": "stderr",
     "output_type": "stream",
     "text": [
      "..\\PyAstroPol\\Surface.py:290: RuntimeWarning: invalid value encountered in true_divide\n",
      "  tCosines = (self.iRays.oCosines + self.nCosines*np.cos(self.iTheta))/np.sin(self.iTheta)\n",
      "..\\PyAstroPol\\Functions.py:26: RuntimeWarning: invalid value encountered in true_divide\n",
      "  V = V/np.reshape(np.linalg.norm(V, axis=1), newshape=(Vs[0],1))\n"
     ]
    },
    {
     "name": "stdout",
     "output_type": "stream",
     "text": [
      "System Mueller matrix is : \n",
      " [[ 1.00000000e+00  0.00000000e+00  3.51160185e-20  0.00000000e+00]\n",
      " [ 0.00000000e+00  1.00000000e+00 -2.10194453e-18  0.00000000e+00]\n",
      " [ 1.55770090e-16  2.33655136e-16  1.00000000e+00  0.00000000e+00]\n",
      " [ 0.00000000e+00  0.00000000e+00 -7.06965839e-19  1.00000000e+00]]\n",
      "Transmission coefficient is:  0.4783062383880123\n"
     ]
    }
   ],
   "source": [
    "MM, Tra = Sys.getSystemMuellerMatrix()                      # Optical system's Mueller matrix\n",
    "print('System Mueller matrix is : \\n', MM)\n",
    "print('Transmission coefficient is: ', Tra)  "
   ]
  }
 ],
 "metadata": {
  "kernelspec": {
   "display_name": "Python 3",
   "language": "python",
   "name": "python3"
  },
  "language_info": {
   "codemirror_mode": {
    "name": "ipython",
    "version": 3
   },
   "file_extension": ".py",
   "mimetype": "text/x-python",
   "name": "python",
   "nbconvert_exporter": "python",
   "pygments_lexer": "ipython3",
   "version": "3.6.0"
  }
 },
 "nbformat": 4,
 "nbformat_minor": 2
}
