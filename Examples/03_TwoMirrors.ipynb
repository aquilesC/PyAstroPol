{
 "cells": [
  {
   "cell_type": "code",
   "execution_count": 1,
   "metadata": {
    "collapsed": false
   },
   "outputs": [],
   "source": [
    "%matplotlib tk\n",
    "import numpy as np\n",
    "import sys\n",
    "from matplotlib import pyplot as plt\n",
    "from mpl_toolkits.mplot3d import Axes3D\n",
    "import random as rd\n",
    "import copy as cp\n",
    "from datetime import datetime as dt\n",
    "sys.path.append('..')\n",
    "from PyAstroPol import *\n",
    "roundOffDisplay(5)"
   ]
  },
  {
   "cell_type": "code",
   "execution_count": 2,
   "metadata": {
    "collapsed": false
   },
   "outputs": [],
   "source": [
    "S = Source(100, Clear=100)                                  # Source for ray analysis\n",
    "Sd = Source(20, Clear=100)                                  # Source for ray analysis\n",
    "S.Wavelength = 0.854\n",
    "Sd.Wavelength = 0.854\n",
    "#\n",
    "M1 = Surface(200, Mirror=True, n2='Al')                     # First mirror\n",
    "M1.rotateAboutX(45)                                         # Fold the mirror\n",
    "M1.translateOrigin(z=1000)                                  # Move the mirror\n",
    "#\n",
    "M2 = Surface(200, Mirror=True, n2='Al')                     # Second mirror\n",
    "M2.rotateAboutX(90)                                         # Rotate the mirror\n",
    "M2.rotateAboutZ(45)                                         # Fold the mirror\n",
    "M2.translateOrigin(y=1000, z=1000)                          # Move the mirror\n",
    "#\n",
    "D = Detector(150)                                           # Detector\n",
    "D.rotateAboutY(90)                                          # Rotate the detector\n",
    "D.translateOrigin(x=1000, y=1000, z=1000)                   # Move the detector\n",
    "#\n",
    "D2 = Detector(150)\n",
    "D2.rotateAboutX(90)                                         # Rotate the detector\n",
    "D2.translateOrigin(y=1000, z=1000)                          # Move the detector"
   ]
  },
  {
   "cell_type": "code",
   "execution_count": 3,
   "metadata": {
    "collapsed": false
   },
   "outputs": [],
   "source": [
    "Sys = System(S, [M1, M2], D, dRays=Sd)                      # Complete optical system\n",
    "Sys.propagateRays()                                         # Propagate rays through system"
   ]
  },
  {
   "cell_type": "code",
   "execution_count": 4,
   "metadata": {
    "collapsed": false
   },
   "outputs": [],
   "source": [
    "Fig = plt.figure()                                             \n",
    "Ax = Fig.add_subplot(111, projection='3d')\n",
    "Sys.draw(Ax)                                                # Draw optical system\n",
    "adjustAspect(Ax, 2000, y=500, z=500)                        # Adjust 3D space"
   ]
  },
  {
   "cell_type": "code",
   "execution_count": 5,
   "metadata": {
    "collapsed": false,
    "tags": []
   },
   "outputs": [
    {
     "output_type": "stream",
     "name": "stdout",
     "text": "System Mueller matrix is : \n [[ 1.00000  0.00000 -0.00000  0.00000]\n [ 0.00000  1.00000 -0.00000  0.00000]\n [ 0.00000  0.00000  1.00000 -0.00000]\n [-0.00000 -0.00000 -0.00000  1.00000]]\nTransmission coefficient is:  0.7264252944238789\n"
    }
   ],
   "source": [
    "MM, Tra = Sys.getSystemMuellerMatrix()                      # Optical system's Mueller matrix\n",
    "print('System Mueller matrix is : \\n', MM)\n",
    "print('Throughput is: ', Tra)"
   ]
  }
 ],
 "metadata": {
  "kernelspec": {
   "display_name": "Python 3",
   "language": "python",
   "name": "python3"
  },
  "language_info": {
   "codemirror_mode": {
    "name": "ipython",
    "version": 3
   },
   "file_extension": ".py",
   "mimetype": "text/x-python",
   "name": "python",
   "nbconvert_exporter": "python",
   "pygments_lexer": "ipython3",
   "version": "3.6.0-final"
  }
 },
 "nbformat": 4,
 "nbformat_minor": 2
}