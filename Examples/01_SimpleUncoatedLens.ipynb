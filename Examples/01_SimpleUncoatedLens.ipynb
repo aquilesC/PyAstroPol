{
 "cells": [
  {
   "cell_type": "code",
   "execution_count": 1,
   "metadata": {
    "collapsed": true
   },
   "outputs": [],
   "source": [
    "%matplotlib tk\n",
    "import numpy as np\n",
    "import sys\n",
    "from matplotlib import pyplot as plt\n",
    "from mpl_toolkits.mplot3d import Axes3D\n",
    "import random as rd\n",
    "import copy as cp\n",
    "from datetime import datetime as dt\n",
    "#\n",
    "sys.path.append('..')\n",
    "from PyAstroPol import *\n",
    "roundOffDisplay(5)"
   ]
  },
  {
   "cell_type": "code",
   "execution_count": 2,
   "metadata": {
    "collapsed": false
   },
   "outputs": [],
   "source": [
    "Source_analysis = Source(10000, Clear=40)                       # Source for ray analysis\n",
    "Source_analysis.translateOrigin(z=-100)                         # Adjust source position\n",
    "#\n",
    "Source_display = Source(20, Clear=40)                           # Source for ray display\n",
    "Source_display.translateOrigin(z=-100)                          # Adjust source (display) position\n",
    "#\n",
    "Lens_1 = UncoatedLens(50, 10, R1=200, R2=-200, n='N-BK7')       # Lens\n",
    "#\n",
    "Detector_1 = Detector(20)                                       # Detector\n",
    "Detector_1.translateOrigin(z=200.3)                             # Adjust detector position"
   ]
  },
  {
   "cell_type": "code",
   "execution_count": 3,
   "metadata": {
    "collapsed": false
   },
   "outputs": [],
   "source": [
    "Sys = System(Source_analysis, [Lens_1], \n",
    "             Detector_1, dRays=Source_display)                          # Complete optical system\n",
    "Sys.propagateRays()                                                     # Propagate rays through system"
   ]
  },
  {
   "cell_type": "code",
   "execution_count": 4,
   "metadata": {
    "collapsed": false
   },
   "outputs": [],
   "source": [
    "Fig = plt.figure()                                             \n",
    "Ax = Fig.add_subplot(111, projection='3d')\n",
    "Sys.draw(Ax)                                                       # Draw optical system\n",
    "adjustAspect(Ax, 400, z=100)                                       # Adjust 3D space"
   ]
  },
  {
   "cell_type": "code",
   "execution_count": 5,
   "metadata": {
    "collapsed": false
   },
   "outputs": [],
   "source": [
    "Fig = plt.figure()\n",
    "Ax = Fig.add_subplot(111, aspect='equal')                       \n",
    "Sys.drawSpotDiagram(Ax, s=0.1, color='r')                   # Draw spot diagram"
   ]
  },
  {
   "cell_type": "code",
   "execution_count": 6,
   "metadata": {
    "collapsed": false,
    "tags": []
   },
   "outputs": [
    {
     "output_type": "stream",
     "name": "stdout",
     "text": "System Mueller matrix is : \n [[ 1.00000 -0.00000  0.00000  0.00000]\n [-0.00000  1.00000  0.00000  0.00000]\n [ 0.00000 -0.00000  1.00000 -0.00000]\n [-0.00000  0.00000  0.00000  1.00000]]\nThroughput is:  0.9178644858642326\n"
    }
   ],
   "source": [
    "MM, Tra = Sys.getSystemMuellerMatrix()                      # Optical system's Mueller matrix\n",
    "print('System Mueller matrix is : \\n', MM)\n",
    "print('Throughput is: ', Tra)  "
   ]
  }
 ],
 "metadata": {
  "kernelspec": {
   "display_name": "Python 3",
   "language": "python",
   "name": "python3"
  },
  "language_info": {
   "codemirror_mode": {
    "name": "ipython",
    "version": 3
   },
   "file_extension": ".py",
   "mimetype": "text/x-python",
   "name": "python",
   "nbconvert_exporter": "python",
   "pygments_lexer": "ipython3",
   "version": "3.6.0-final"
  }
 },
 "nbformat": 4,
 "nbformat_minor": 2
}