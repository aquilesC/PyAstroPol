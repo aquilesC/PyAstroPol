{
 "cells": [
  {
   "cell_type": "code",
   "execution_count": null,
   "metadata": {
    "collapsed": true
   },
   "outputs": [],
   "source": [
    "%matplotlib tk\n",
    "import numpy as np\n",
    "import sys\n",
    "from matplotlib import pyplot as plt\n",
    "from mpl_toolkits.mplot3d import Axes3D\n",
    "import random as rd\n",
    "import copy as cp\n",
    "from datetime import datetime as dt\n",
    "#\n",
    "sys.path.append('..')\n",
    "from PyAstroPol import *\n",
    "roundOffDisplay(5)"
   ]
  },
  {
   "cell_type": "code",
   "execution_count": null,
   "metadata": {
    "collapsed": false
   },
   "outputs": [],
   "source": [
    "def formatMaterialFile(Name):\n",
    "    FileName = '../Materials/' + str(Name) + '.csv'\n",
    "    f = open(FileName, 'r')\n",
    "    w, n, k = [], [], []\n",
    "    f.readlines(1)\n",
    "    try:\n",
    "    # Replace missing values with -1000\n",
    "    for i in f:\n",
    "        temp = i.split(',')\n",
    "        w.append(float(temp[0]))\n",
    "        try:\n",
    "            n.append(float(temp[1]))\n",
    "        except:\n",
    "            n.append(-1000)\n",
    "        try:\n",
    "            k.append(float(temp[2]))\n",
    "        except:\n",
    "            k.append(-1000)   \n",
    "    f.close()\n",
    "    \n",
    "    # Find indices of missing values\n",
    "    w, n, k = np.array(w), np.array(n), np.array(k)\n",
    "    n_ok = np.argwhere(n != -1000).flatten()\n",
    "    k_ok = np.argwhere(k != -1000).flatten()\n",
    "    n_nan = np.argwhere(n == -1000).flatten()\n",
    "    k_nan = np.argwhere(k == -1000).flatten()\n",
    "\n",
    "    # Interpolate missing values using existing\n",
    "    w_proper, n_proper = w[n_ok], n[n_ok]\n",
    "    for i in n_nan:\n",
    "        n[i] = np.interp(w[i], w_proper, n_proper)\n",
    "    w_proper, k_proper = w[k_ok], k[k_ok]\n",
    "    for i in k_nan:\n",
    "        k[i] = np.interp(w[i], w_proper, k_proper)\n",
    "    \n",
    "    # Get string data ready to be written to file\n",
    "    Data = ''\n",
    "    for i in range(len(w)):\n",
    "        Data.join(str(w[i]))\n",
    "        Data.join(',')\n",
    "        Data.join(str(n[i]))\n",
    "        Data.join(',')\n",
    "        Data.join(str(k[i]))\n",
    "        Data.join('\\n')\n",
    "    print(Data)\n",
    "    # Write the data to the same file\n",
    "    f = open(FileName + '1', 'w')\n",
    "    f.write(Data)\n",
    "    f.close()\n",
    "    return"
   ]
  },
  {
   "cell_type": "code",
   "execution_count": null,
   "metadata": {
    "collapsed": false
   },
   "outputs": [],
   "source": [
    "formatMaterialFile('N-BAF10')"
   ]
  }
 ],
 "metadata": {
  "kernelspec": {
   "display_name": "Python 3",
   "language": "python",
   "name": "python3"
  },
  "language_info": {
   "codemirror_mode": {
    "name": "ipython",
    "version": 3
   },
   "file_extension": ".py",
   "mimetype": "text/x-python",
   "name": "python",
   "nbconvert_exporter": "python",
   "pygments_lexer": "ipython3",
   "version": "3.6.0"
  }
 },
 "nbformat": 4,
 "nbformat_minor": 2
}
