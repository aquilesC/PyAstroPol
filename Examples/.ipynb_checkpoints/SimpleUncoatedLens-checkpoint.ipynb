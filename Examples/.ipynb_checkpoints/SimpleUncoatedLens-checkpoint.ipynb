{
 "cells": [
  {
   "cell_type": "code",
   "execution_count": 1,
   "metadata": {
    "collapsed": true
   },
   "outputs": [],
   "source": [
    "%matplotlib tk\n",
    "import numpy as np\n",
    "import sys\n",
    "from matplotlib import pyplot as plt\n",
    "from mpl_toolkits.mplot3d import Axes3D\n",
    "import random as rd\n",
    "import copy as cp\n",
    "from datetime import datetime as dt\n",
    "#\n",
    "sys.path.append('..')\n",
    "from PyAstroPol import *"
   ]
  },
  {
   "cell_type": "code",
   "execution_count": 2,
   "metadata": {
    "collapsed": false
   },
   "outputs": [],
   "source": [
    "S = Source(1000000, Clear=45)                                  # Source for ray analysis\n",
    "S.translateOrigin(z=-100)                                      # Adjust source position\n",
    "#\n",
    "Sd = Source(20, Clear=45)                                      # Source for ray display\n",
    "Sd.translateOrigin(z=-100)                                     # Adjust source (display) position\n",
    "#\n",
    "L = UncoatedLens(50, 10, R1=200, R2=-200, n=2.05)              # Lens\n",
    "#\n",
    "D = Detector(20)                                               # Detector\n",
    "D.translateOrigin(z=100)                                       # Adjust detector position"
   ]
  },
  {
   "cell_type": "code",
   "execution_count": 3,
   "metadata": {
    "collapsed": false
   },
   "outputs": [
    {
     "name": "stderr",
     "output_type": "stream",
     "text": [
      "..\\PyAstroPol\\Surface.py:280: RuntimeWarning: invalid value encountered in true_divide\n",
      "  tCosines = (self.iRays.oCosines + self.nCosines*np.cos(self.iTheta))/np.sin(self.iTheta)\n",
      "..\\PyAstroPol\\Functions.py:18: RuntimeWarning: invalid value encountered in true_divide\n",
      "  V = V/np.reshape(np.linalg.norm(V, axis=1), newshape=(Vs[0],1))\n",
      "..\\PyAstroPol\\Surface.py:216: RuntimeWarning: divide by zero encountered in true_divide\n",
      "  dplus = (-b+np.sqrt(b**2-4.0*a*c))/2.0/a\n",
      "..\\PyAstroPol\\Surface.py:217: RuntimeWarning: invalid value encountered in true_divide\n",
      "  dminus = (-b-np.sqrt(b**2-4.0*a*c))/2.0/a\n"
     ]
    }
   ],
   "source": [
    "Sys = System(S, [L], D, dRays=Sd)                              # Complete optical system\n",
    "Sys.propagateRays()                                            # Propagate rays through system\n",
    "#\n",
    "Fig = plt.figure()                                             # Create figure\n",
    "Ax = Fig.add_subplot(111, projection='3d')                     # Figure 3d projection\n",
    "Sys.draw(Ax)                                                   # Draw optical system\n",
    "adjustAspect(Ax, 200)                                          # Adjust 3D space "
   ]
  },
  {
   "cell_type": "code",
   "execution_count": 4,
   "metadata": {
    "collapsed": false
   },
   "outputs": [
    {
     "name": "stderr",
     "output_type": "stream",
     "text": [
      "..\\PyAstroPol\\Surface.py:280: RuntimeWarning: invalid value encountered in true_divide\n",
      "  tCosines = (self.iRays.oCosines + self.nCosines*np.cos(self.iTheta))/np.sin(self.iTheta)\n",
      "..\\PyAstroPol\\Functions.py:18: RuntimeWarning: invalid value encountered in true_divide\n",
      "  V = V/np.reshape(np.linalg.norm(V, axis=1), newshape=(Vs[0],1))\n"
     ]
    },
    {
     "name": "stdout",
     "output_type": "stream",
     "text": [
      "System Mueller matrix is : \n",
      " [[ 1.000000  0.000000 -0.000000  0.000000]\n",
      " [ 0.000000  1.000000  0.000000  0.000000]\n",
      " [-0.000000 -0.000000  1.000000  0.000000]\n",
      " [-0.000000 -0.000000 -0.000000  1.000000]]\n",
      "Transmission coefficient is:  0.7935911687540604\n"
     ]
    }
   ],
   "source": [
    "MM, Tra = Sys.getSystemMuellerMatrix()                         # Optical system's Mueller matrix\n",
    "print('System Mueller matrix is : \\n', MM)\n",
    "print('Transmission coefficient is: ', Tra)  "
   ]
  }
 ],
 "metadata": {
  "kernelspec": {
   "display_name": "Python 3",
   "language": "python",
   "name": "python3"
  },
  "language_info": {
   "codemirror_mode": {
    "name": "ipython",
    "version": 3
   },
   "file_extension": ".py",
   "mimetype": "text/x-python",
   "name": "python",
   "nbconvert_exporter": "python",
   "pygments_lexer": "ipython3",
   "version": "3.6.0"
  }
 },
 "nbformat": 4,
 "nbformat_minor": 2
}
