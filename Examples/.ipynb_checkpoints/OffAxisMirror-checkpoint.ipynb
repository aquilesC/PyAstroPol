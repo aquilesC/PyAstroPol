{
 "cells": [
  {
   "cell_type": "code",
   "execution_count": 1,
   "metadata": {
    "collapsed": false
   },
   "outputs": [],
   "source": [
    "%matplotlib tk\n",
    "import numpy as np\n",
    "import sys\n",
    "from matplotlib import pyplot as plt\n",
    "from mpl_toolkits.mplot3d import Axes3D\n",
    "import random as rd\n",
    "import copy as cp\n",
    "from datetime import datetime as dt\n",
    "#\n",
    "sys.path.append('..')\n",
    "from PyAstroPol import *"
   ]
  },
  {
   "cell_type": "code",
   "execution_count": 19,
   "metadata": {
    "collapsed": false
   },
   "outputs": [],
   "source": [
    "S = Source(1000000, Clear=45)                                           # Source for ray analysis\n",
    "S.rotateAboutX(180.0)                                                   # \n",
    "S.translateOrigin(z=20000.0)                                            # Adjust source position\n",
    "#\n",
    "Sd = Source(20, Clear=700.0)                                            # Source for ray display\n",
    "Sd.rotateAboutX(180.0)                                                  # \n",
    "Sd.translateOrigin(x=600, z=20000.0)                                    # Adjust source position\n",
    "#\n",
    "M1 = Surface(700.0, R=50000.0, K=-1.0, Mirror=True, n2=1.1+6.8j, OffAxis=True, OffAxDist=600, OffAxAz=0.0)\n",
    "M1.translateOrigin(x=M1.OffAxisDistance)                                # \n",
    "M1.propagateRays(Sd)                                                    # \n",
    "#\n",
    "M2 = Surface(400.0, R=12000.0, K=-1.02, Mirror=True, n2=1.1+6.8j)       # \n",
    "M2.translateOrigin(x=M2.OffAxisDistance, z=20000.0)                     # \n",
    "M2.propagateRays(M1.rRays)                                              #\n",
    "#\n",
    "D = Detector(200)                                                       # Detector\n",
    "D.translateOrigin(z=-2000.0)                                            # Adjust detector position\n",
    "D.propagateRays(M2.rRays)                                               # Propagate rays"
   ]
  },
  {
   "cell_type": "code",
   "execution_count": 18,
   "metadata": {
    "collapsed": false
   },
   "outputs": [],
   "source": [
    "Fig = plt.figure()                                                      # Create figure\n",
    "Ax = Fig.add_subplot(111, projection='3d')                              # Figure 3d projection\n",
    "M1.draw(Ax, color='r')                                                  \n",
    "M1.drawRays(Ax, color='k')\n",
    "# M1.rRays.drawRays(Ax, 20000.0, color='k')\n",
    "M2.draw(Ax, color='r')\n",
    "M2.drawRays(Ax, color='k')\n",
    "# M2.rRays.drawRays(Ax, 25000, color='k')\n",
    "D.draw(Ax, color='r')\n",
    "D.drawRays(Ax, color='k')\n",
    "adjustAspect(Ax, 20000.0, z=10000)                                      # Adjust 3D space "
   ]
  },
  {
   "cell_type": "code",
   "execution_count": null,
   "metadata": {
    "collapsed": true
   },
   "outputs": [],
   "source": [
    "a, b, c = M1.A, M1.B, M1.C"
   ]
  },
  {
   "cell_type": "code",
   "execution_count": 8,
   "metadata": {
    "collapsed": false
   },
   "outputs": [
    {
     "data": {
      "text/plain": [
       "array([22021.11808742, 22034.97687272, 22030.42106623, 22020.19118254,\n",
       "       22011.99436567, 22011.99436567, 22020.19118254, 22030.42106623,\n",
       "       22052.38822453, 22049.14065628, 22040.27304643, 22028.17127359,\n",
       "       22016.08288261, 22007.24203651, 22004.00785014, 22007.24203651,\n",
       "       22016.08288261, 22028.17127359, 22040.27304643, 22049.14065628])"
      ]
     },
     "execution_count": 8,
     "metadata": {},
     "output_type": "execute_result"
    }
   ],
   "source": [
    "D.D"
   ]
  },
  {
   "cell_type": "code",
   "execution_count": null,
   "metadata": {
    "collapsed": false
   },
   "outputs": [],
   "source": [
    "np.sqrt(np.sum(np.array(M2.IncidentPoints[0,:].flatten()-M2.Origin.flatten())**2))"
   ]
  },
  {
   "cell_type": "code",
   "execution_count": 12,
   "metadata": {
    "collapsed": false
   },
   "outputs": [
    {
     "ename": "ValueError",
     "evalue": "operands could not be broadcast together with shapes (20,3) (20,) ",
     "output_type": "error",
     "traceback": [
      "\u001b[0;31m---------------------------------------------------------------------------\u001b[0m",
      "\u001b[0;31mValueError\u001b[0m                                Traceback (most recent call last)",
      "\u001b[0;32m<ipython-input-12-3d06b160dc51>\u001b[0m in \u001b[0;36m<module>\u001b[0;34m()\u001b[0m\n\u001b[0;32m----> 1\u001b[0;31m \u001b[0mM2\u001b[0m\u001b[1;33m.\u001b[0m\u001b[0mrRays\u001b[0m\u001b[1;33m.\u001b[0m\u001b[0moCosines\u001b[0m\u001b[1;33m*\u001b[0m\u001b[0mD\u001b[0m\u001b[1;33m.\u001b[0m\u001b[0mD\u001b[0m\u001b[1;33m\u001b[0m\u001b[0m\n\u001b[0m",
      "\u001b[0;31mValueError\u001b[0m: operands could not be broadcast together with shapes (20,3) (20,) "
     ]
    }
   ],
   "source": [
    "M2.rRays.oCosines*D.D"
   ]
  },
  {
   "cell_type": "code",
   "execution_count": null,
   "metadata": {
    "collapsed": false
   },
   "outputs": [],
   "source": [
    "D.Origin"
   ]
  },
  {
   "cell_type": "code",
   "execution_count": null,
   "metadata": {
    "collapsed": false
   },
   "outputs": [],
   "source": [
    "(-b+np.sqrt(b**2-4.0*a*c))/a"
   ]
  },
  {
   "cell_type": "code",
   "execution_count": null,
   "metadata": {
    "collapsed": false
   },
   "outputs": [],
   "source": [
    "d = (-b+np.sqrt(b**2-4.0*a*c))\n",
    "d"
   ]
  }
 ],
 "metadata": {
  "kernelspec": {
   "display_name": "Python 3",
   "language": "python",
   "name": "python3"
  },
  "language_info": {
   "codemirror_mode": {
    "name": "ipython",
    "version": 3
   },
   "file_extension": ".py",
   "mimetype": "text/x-python",
   "name": "python",
   "nbconvert_exporter": "python",
   "pygments_lexer": "ipython3",
   "version": "3.6.0"
  }
 },
 "nbformat": 4,
 "nbformat_minor": 2
}
