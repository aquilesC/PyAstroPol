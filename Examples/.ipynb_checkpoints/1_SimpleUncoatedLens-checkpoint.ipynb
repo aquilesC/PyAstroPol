{
 "cells": [
  {
   "cell_type": "code",
   "execution_count": 1,
   "metadata": {
    "collapsed": true
   },
   "outputs": [],
   "source": [
    "%matplotlib tk\n",
    "import numpy as np\n",
    "import sys\n",
    "from matplotlib import pyplot as plt\n",
    "from mpl_toolkits.mplot3d import Axes3D\n",
    "import random as rd\n",
    "import copy as cp\n",
    "from datetime import datetime as dt\n",
    "#\n",
    "sys.path.append('..')\n",
    "from PyAstroPol import *"
   ]
  },
  {
   "cell_type": "code",
   "execution_count": 39,
   "metadata": {
    "collapsed": false
   },
   "outputs": [],
   "source": [
    "Source_analysis = Source(10000, Clear=40)                       # Source for ray analysis\n",
    "Source_analysis.translateOrigin(z=-100)                         # Adjust source position\n",
    "#\n",
    "Source_display = Source(20, Clear=40)                           # Source for ray display\n",
    "Source_display.translateOrigin(z=-100)                          # Adjust source (display) position\n",
    "#\n",
    "Lens_1 = UncoatedLens(50, 10, R1=200, R2=-200, n=2.05)          # Lens\n",
    "#\n",
    "Detector_1 = Detector(20)                                       # Detector\n",
    "Detector_1.translateOrigin(z=100)                               # Adjust detector position"
   ]
  },
  {
   "cell_type": "code",
   "execution_count": 40,
   "metadata": {
    "collapsed": false
   },
   "outputs": [
    {
     "name": "stderr",
     "output_type": "stream",
     "text": [
      "..\\PyAstroPol\\Surface.py:283: RuntimeWarning: invalid value encountered in true_divide\n",
      "  tCosines = (self.iRays.oCosines + self.nCosines*np.cos(self.iTheta))/np.sin(self.iTheta)\n",
      "..\\PyAstroPol\\Functions.py:19: RuntimeWarning: invalid value encountered in true_divide\n",
      "  V = V/np.reshape(np.linalg.norm(V, axis=1), newshape=(Vs[0],1))\n",
      "..\\PyAstroPol\\Surface.py:218: RuntimeWarning: divide by zero encountered in true_divide\n",
      "  dplus = (-b+np.sqrt(b**2-4.0*a*c))/2.0/a\n",
      "..\\PyAstroPol\\Surface.py:219: RuntimeWarning: invalid value encountered in true_divide\n",
      "  dminus = (-b-np.sqrt(b**2-4.0*a*c))/2.0/a\n"
     ]
    }
   ],
   "source": [
    "Sys = System(Source_analysis, [Lens_1], \n",
    "             Detector_1, dRays=Source_display)                          # Complete optical system\n",
    "Sys.propagateRays()                                                     # Propagate rays through system"
   ]
  },
  {
   "cell_type": "code",
   "execution_count": 41,
   "metadata": {
    "collapsed": false
   },
   "outputs": [
    {
     "name": "stderr",
     "output_type": "stream",
     "text": [
      "..\\PyAstroPol\\Surface.py:218: RuntimeWarning: divide by zero encountered in true_divide\n",
      "  dplus = (-b+np.sqrt(b**2-4.0*a*c))/2.0/a\n",
      "..\\PyAstroPol\\Surface.py:219: RuntimeWarning: invalid value encountered in true_divide\n",
      "  dminus = (-b-np.sqrt(b**2-4.0*a*c))/2.0/a\n"
     ]
    }
   ],
   "source": [
    "Source_analysis.rotateAboutX(1)\n",
    "Source_display.rotateAboutX(1)\n",
    "Sys2 = System(Source_analysis, [Lens_1], \n",
    "             Detector_1, dRays=Source_display)                          # Complete optical system\n",
    "Sys2.propagateRays()                                                    # Propagate rays through system"
   ]
  },
  {
   "cell_type": "code",
   "execution_count": 42,
   "metadata": {
    "collapsed": false
   },
   "outputs": [
    {
     "name": "stderr",
     "output_type": "stream",
     "text": [
      "..\\PyAstroPol\\Surface.py:283: RuntimeWarning: invalid value encountered in true_divide\n",
      "  tCosines = (self.iRays.oCosines + self.nCosines*np.cos(self.iTheta))/np.sin(self.iTheta)\n",
      "..\\PyAstroPol\\Functions.py:19: RuntimeWarning: invalid value encountered in true_divide\n",
      "  V = V/np.reshape(np.linalg.norm(V, axis=1), newshape=(Vs[0],1))\n",
      "..\\PyAstroPol\\Surface.py:218: RuntimeWarning: divide by zero encountered in true_divide\n",
      "  dplus = (-b+np.sqrt(b**2-4.0*a*c))/2.0/a\n",
      "..\\PyAstroPol\\Surface.py:219: RuntimeWarning: invalid value encountered in true_divide\n",
      "  dminus = (-b-np.sqrt(b**2-4.0*a*c))/2.0/a\n"
     ]
    }
   ],
   "source": [
    "Fig = plt.figure()                                             \n",
    "Ax = Fig.add_subplot(111, projection='3d')\n",
    "Sys.draw(Ax)                                                # Draw optical system\n",
    "Sys2.draw(Ax)\n",
    "adjustAspect(Ax, 200)                                       # Adjust 3D space"
   ]
  },
  {
   "cell_type": "code",
   "execution_count": 43,
   "metadata": {
    "collapsed": false
   },
   "outputs": [],
   "source": [
    "Fig = plt.figure()\n",
    "Ax = Fig.add_subplot(111, aspect='equal')                       \n",
    "Sys.drawSpotDiagram(Ax, s=0.1, color='r')                   # Draw spot diagram\n",
    "Sys2.drawSpotDiagram(Ax, s=0.1, color='b')                  # Draw off-axis field spot"
   ]
  },
  {
   "cell_type": "code",
   "execution_count": 44,
   "metadata": {
    "collapsed": false
   },
   "outputs": [
    {
     "name": "stdout",
     "output_type": "stream",
     "text": [
      "System Mueller matrix is : \n",
      " [[ 1.00000000e+00  0.00000000e+00 -1.72522911e-19  0.00000000e+00]\n",
      " [ 0.00000000e+00  1.00000000e+00 -2.47464990e-19  0.00000000e+00]\n",
      " [ 1.88603013e-16  9.43015066e-17  1.00000000e+00  0.00000000e+00]\n",
      " [ 1.88603013e-16 -9.43015066e-17 -1.25081049e-18  1.00000000e+00]]\n",
      "Transmission coefficient is:  0.7900807595128848\n"
     ]
    },
    {
     "name": "stderr",
     "output_type": "stream",
     "text": [
      "..\\PyAstroPol\\Surface.py:283: RuntimeWarning: invalid value encountered in true_divide\n",
      "  tCosines = (self.iRays.oCosines + self.nCosines*np.cos(self.iTheta))/np.sin(self.iTheta)\n",
      "..\\PyAstroPol\\Functions.py:19: RuntimeWarning: invalid value encountered in true_divide\n",
      "  V = V/np.reshape(np.linalg.norm(V, axis=1), newshape=(Vs[0],1))\n"
     ]
    }
   ],
   "source": [
    "MM, Tra = Sys.getSystemMuellerMatrix()                      # Optical system's Mueller matrix\n",
    "print('System Mueller matrix is : \\n', MM)\n",
    "print('Transmission coefficient is: ', Tra)  "
   ]
  }
 ],
 "metadata": {
  "kernelspec": {
   "display_name": "Python 3",
   "language": "python",
   "name": "python3"
  },
  "language_info": {
   "codemirror_mode": {
    "name": "ipython",
    "version": 3
   },
   "file_extension": ".py",
   "mimetype": "text/x-python",
   "name": "python",
   "nbconvert_exporter": "python",
   "pygments_lexer": "ipython3",
   "version": "3.6.0"
  }
 },
 "nbformat": 4,
 "nbformat_minor": 2
}
