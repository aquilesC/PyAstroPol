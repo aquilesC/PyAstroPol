{
 "cells": [
  {
   "cell_type": "code",
   "execution_count": 1,
   "metadata": {
    "collapsed": false
   },
   "outputs": [],
   "source": [
    "%matplotlib tk\n",
    "import numpy as np\n",
    "import sys\n",
    "from matplotlib import pyplot as plt\n",
    "from mpl_toolkits.mplot3d import Axes3D\n",
    "import random as rd\n",
    "import copy as cp\n",
    "from datetime import datetime as dt\n",
    "#\n",
    "sys.path.append('..')\n",
    "from PyAstroPol import *\n",
    "roundOffDisplay(5)"
   ]
  },
  {
   "cell_type": "code",
   "execution_count": null,
   "metadata": {
    "collapsed": false
   },
   "outputs": [],
   "source": [
    "Source_analysis = Source(10000, Clear=40)                       # Source for ray analysis\n",
    "Source_analysis.rotateAboutX(-30)\n",
    "Source_analysis.translateOrigin(y=-60, z=-100)                  # Adjust source position\n",
    "#\n",
    "Source_display = Source(20, Clear=40)                           # Source for ray display\n",
    "Source_display.rotateAboutX(-30)\n",
    "Source_display.translateOrigin(y=-60, z=-100)                   # Adjust source (display) position\n",
    "#\n",
    "FrontSurf = Surface(100, n1=1.0, n2=1.6)                        # Front surface of the prism\n",
    "FrontSurf.rotateAboutX(30)                                      \n",
    "BackSurf = Surface(100, n1=1.6, n2=1.0)                         # Back surface of the prism\n",
    "BackSurf.rotateAboutX(-30)\n",
    "BackSurf.translateOrigin(z=50)\n",
    "#\n",
    "Detector_1 = Detector(200)                                      # Detector\n",
    "Detector_1.rotateAboutX(50)\n",
    "Detector_1.translateOrigin(y=-50, z=200)                        # Adjust detector position"
   ]
  },
  {
   "cell_type": "code",
   "execution_count": null,
   "metadata": {
    "collapsed": false
   },
   "outputs": [],
   "source": [
    "Sys = System(Source_analysis, [FrontSurf, BackSurf], \n",
    "             Detector_1, dRays=Source_display)                          # Complete optical system\n",
    "Sys.propagateRays()                                                     # Propagate rays through system"
   ]
  },
  {
   "cell_type": "code",
   "execution_count": null,
   "metadata": {
    "collapsed": false
   },
   "outputs": [],
   "source": [
    "FrontSurf.tRI = BackSurf.iRI = 1.7                                      # Change the refractive index\n",
    "Sys2 = System(Source_analysis, [FrontSurf, BackSurf], \n",
    "             Detector_1, dRays=Source_display)                          # Complete optical system\n",
    "Sys2.propagateRays()                                                    # Propagate rays through system"
   ]
  },
  {
   "cell_type": "code",
   "execution_count": null,
   "metadata": {
    "collapsed": false
   },
   "outputs": [],
   "source": [
    "Fig = plt.figure()                                             \n",
    "Ax = Fig.add_subplot(111, projection='3d')\n",
    "Sys.draw(Ax)                                                # Draw optical system\n",
    "Sys2.draw(Ax)\n",
    "adjustAspect(Ax, 400)                                       # Adjust 3D space"
   ]
  },
  {
   "cell_type": "code",
   "execution_count": null,
   "metadata": {
    "collapsed": false
   },
   "outputs": [],
   "source": [
    "Fig = plt.figure()\n",
    "Ax = Fig.add_subplot(111, aspect='equal')                       \n",
    "Sys.drawSpotDiagram(Ax, s=0.1, color='r')                   # Draw spot diagram\n",
    "Sys2.drawSpotDiagram(Ax, s=0.1, color='b')                  # Draw off-axis field spot"
   ]
  },
  {
   "cell_type": "code",
   "execution_count": null,
   "metadata": {
    "collapsed": false
   },
   "outputs": [],
   "source": [
    "MM, Tra = Sys.getSystemMuellerMatrix()                      # Optical system's Mueller matrix\n",
    "print('System Mueller matrix is : \\n', MM)\n",
    "print('Transmission coefficient is: ', Tra)  "
   ]
  }
 ],
 "metadata": {
  "kernelspec": {
   "display_name": "Python 3",
   "language": "python",
   "name": "python3"
  },
  "language_info": {
   "codemirror_mode": {
    "name": "ipython",
    "version": 3
   },
   "file_extension": ".py",
   "mimetype": "text/x-python",
   "name": "python",
   "nbconvert_exporter": "python",
   "pygments_lexer": "ipython3",
   "version": "3.6.0"
  }
 },
 "nbformat": 4,
 "nbformat_minor": 2
}
