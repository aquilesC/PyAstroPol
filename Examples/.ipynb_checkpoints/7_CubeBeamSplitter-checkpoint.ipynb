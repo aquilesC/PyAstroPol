{
 "cells": [
  {
   "cell_type": "code",
   "execution_count": 1,
   "metadata": {
    "collapsed": false
   },
   "outputs": [],
   "source": [
    "%matplotlib tk\n",
    "import numpy as np\n",
    "import sys\n",
    "from matplotlib import pyplot as plt\n",
    "from mpl_toolkits.mplot3d import Axes3D\n",
    "import random as rd\n",
    "import copy as cp\n",
    "from datetime import datetime as dt\n",
    "#\n",
    "sys.path.append('..')\n",
    "from PyAstroPol import *\n",
    "roundOffDisplay(5)"
   ]
  },
  {
   "cell_type": "code",
   "execution_count": 49,
   "metadata": {
    "collapsed": false
   },
   "outputs": [],
   "source": [
    "Source_analysis = Source(10000, Clear=40)                       # Source for ray analysis\n",
    "Source_analysis.translateOrigin(z=-100)                         # Adjust source position\n",
    "#\n",
    "Source_display = Source(20, Clear=40)                           # Source for ray display\n",
    "Source_display.translateOrigin(z=-100)                          # Adjust source (display) position\n",
    "#\n",
    "Lens_1 = UncoatedLens(50, 10, R1=400, R2=-400, n=2.05)          # Lens\n",
    "#\n",
    "FrontSurf = Surface(60, n1=1.0, n2=1.6)                         # Front surface\n",
    "FrontSurf.translateOrigin(z=100)                              \n",
    "MiddleSurf = Surface(60, n1=1.6, n2=1.6)                        # Middle transmitting surface\n",
    "MiddleSurf.rotateAboutX(45)\n",
    "MiddleSurf.translateOrigin(z=130)\n",
    "FoldingSurf = Surface(60, n1=1.6, n2=1.1+6.8j, Mirror=True)     # Middle reflecting surface\n",
    "FoldingSurf.rotateAboutX(45)\n",
    "FoldingSurf.translateOrigin(z=130)\n",
    "BackSurf = Surface(60, n1=1.6, n2=1.0)                          # Back surface\n",
    "BackSurf.translateOrigin(z=160)\n",
    "SideSurf = Surface(60, n1=1.6, n2=1.0)                          # Side surface\n",
    "SideSurf.rotateAboutX(90)\n",
    "SideSurf.translateOrigin(y=30, z=130)\n",
    "#\n",
    "Detector_1 = Detector(40)                                       # Detector\n",
    "Detector_1.translateOrigin(z=215)                               # Adjust detector position\n",
    "Detector_2 = Detector(100)                                      # Second detector\n",
    "Detector_2.rotateAboutX(90)                                     # Adjust the detector orientation\n",
    "Detector_2.translateOrigin(z=130, y=85)                         # Adjust the detector position"
   ]
  },
  {
   "cell_type": "code",
   "execution_count": 50,
   "metadata": {
    "collapsed": false
   },
   "outputs": [
    {
     "name": "stderr",
     "output_type": "stream",
     "text": [
      "..\\PyAstroPol\\Surface.py:283: RuntimeWarning: invalid value encountered in true_divide\n",
      "  tCosines = (self.iRays.oCosines + self.nCosines*np.cos(self.iTheta))/np.sin(self.iTheta)\n",
      "..\\PyAstroPol\\Functions.py:19: RuntimeWarning: invalid value encountered in true_divide\n",
      "  V = V/np.reshape(np.linalg.norm(V, axis=1), newshape=(Vs[0],1))\n",
      "..\\PyAstroPol\\Surface.py:218: RuntimeWarning: divide by zero encountered in true_divide\n",
      "  dplus = (-b+np.sqrt(b**2-4.0*a*c))/2.0/a\n",
      "..\\PyAstroPol\\Surface.py:219: RuntimeWarning: invalid value encountered in true_divide\n",
      "  dminus = (-b-np.sqrt(b**2-4.0*a*c))/2.0/a\n",
      "..\\PyAstroPol\\Surface.py:283: RuntimeWarning: divide by zero encountered in true_divide\n",
      "  tCosines = (self.iRays.oCosines + self.nCosines*np.cos(self.iTheta))/np.sin(self.iTheta)\n"
     ]
    }
   ],
   "source": [
    "# Transmitting part\n",
    "Sys = System(Source_analysis, [Lens_1, FrontSurf, MiddleSurf, BackSurf], \n",
    "             Detector_1, dRays=Source_display)                          # Complete optical system\n",
    "Sys.propagateRays()                                                     # Propagate rays through system\n",
    "# Reflecting part\n",
    "Sys2 = System(Source_analysis, [Lens_1, FrontSurf, FoldingSurf, SideSurf], \n",
    "             Detector_2, dRays=Source_display)                          # Complete optical system\n",
    "Sys2.propagateRays()                                                    # Propagate rays through system"
   ]
  },
  {
   "cell_type": "code",
   "execution_count": 52,
   "metadata": {
    "collapsed": false
   },
   "outputs": [
    {
     "name": "stderr",
     "output_type": "stream",
     "text": [
      "..\\PyAstroPol\\Surface.py:283: RuntimeWarning: invalid value encountered in true_divide\n",
      "  tCosines = (self.iRays.oCosines + self.nCosines*np.cos(self.iTheta))/np.sin(self.iTheta)\n",
      "..\\PyAstroPol\\Functions.py:19: RuntimeWarning: invalid value encountered in true_divide\n",
      "  V = V/np.reshape(np.linalg.norm(V, axis=1), newshape=(Vs[0],1))\n",
      "..\\PyAstroPol\\Surface.py:218: RuntimeWarning: divide by zero encountered in true_divide\n",
      "  dplus = (-b+np.sqrt(b**2-4.0*a*c))/2.0/a\n",
      "..\\PyAstroPol\\Surface.py:219: RuntimeWarning: invalid value encountered in true_divide\n",
      "  dminus = (-b-np.sqrt(b**2-4.0*a*c))/2.0/a\n",
      "..\\PyAstroPol\\Surface.py:283: RuntimeWarning: divide by zero encountered in true_divide\n",
      "  tCosines = (self.iRays.oCosines + self.nCosines*np.cos(self.iTheta))/np.sin(self.iTheta)\n",
      "..\\PyAstroPol\\Surface.py:218: RuntimeWarning: invalid value encountered in true_divide\n",
      "  dplus = (-b+np.sqrt(b**2-4.0*a*c))/2.0/a\n",
      "..\\PyAstroPol\\Surface.py:219: RuntimeWarning: divide by zero encountered in true_divide\n",
      "  dminus = (-b-np.sqrt(b**2-4.0*a*c))/2.0/a\n"
     ]
    }
   ],
   "source": [
    "Fig = plt.figure()                                             \n",
    "Ax = Fig.add_subplot(111, projection='3d')\n",
    "Sys.draw(Ax)                                                # Draw optical system\n",
    "Sys2.draw(Ax)\n",
    "adjustAspect(Ax, 600, z=100)                                # Adjust 3D space"
   ]
  },
  {
   "cell_type": "code",
   "execution_count": 53,
   "metadata": {
    "collapsed": false
   },
   "outputs": [],
   "source": [
    "Fig = plt.figure()\n",
    "Ax = Fig.add_subplot(111, aspect='equal')                       \n",
    "Sys.drawSpotDiagram(Ax, s=0.1, color='r')                   # Draw spot diagram\n",
    "Fig = plt.figure()\n",
    "Ax = Fig.add_subplot(111, aspect='equal') \n",
    "Sys2.drawSpotDiagram(Ax, s=0.1, color='b')                  # Draw off-axis field spot"
   ]
  },
  {
   "cell_type": "code",
   "execution_count": null,
   "metadata": {
    "collapsed": false
   },
   "outputs": [],
   "source": [
    "MM, Tra = Sys.getSystemMuellerMatrix()                      # Optical system's Mueller matrix\n",
    "print('System Mueller matrix is : \\n', MM)\n",
    "print('Transmission coefficient is: ', Tra)  "
   ]
  }
 ],
 "metadata": {
  "kernelspec": {
   "display_name": "Python 3",
   "language": "python",
   "name": "python3"
  },
  "language_info": {
   "codemirror_mode": {
    "name": "ipython",
    "version": 3
   },
   "file_extension": ".py",
   "mimetype": "text/x-python",
   "name": "python",
   "nbconvert_exporter": "python",
   "pygments_lexer": "ipython3",
   "version": "3.6.0"
  }
 },
 "nbformat": 4,
 "nbformat_minor": 2
}
