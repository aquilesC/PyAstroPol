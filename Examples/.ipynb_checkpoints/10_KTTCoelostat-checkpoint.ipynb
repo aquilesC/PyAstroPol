{
 "cells": [
  {
   "cell_type": "code",
   "execution_count": 8,
   "metadata": {
    "collapsed": true
   },
   "outputs": [],
   "source": [
    "%matplotlib tk\n",
    "import numpy as np\n",
    "import sys\n",
    "from matplotlib import pyplot as plt\n",
    "from mpl_toolkits.mplot3d import Axes3D\n",
    "import random as rd\n",
    "import copy as cp\n",
    "from datetime import datetime as dt\n",
    "#\n",
    "sys.path.append('..')\n",
    "from PyAstroPol import *\n",
    "roundOffDisplay(8)"
   ]
  },
  {
   "cell_type": "code",
   "execution_count": 2,
   "metadata": {
    "collapsed": true
   },
   "outputs": [],
   "source": [
    "class KTTCoelostat(System):\n",
    "    def __init__(self, Sun, Sun_disp):\n",
    "        #\n",
    "        self.Sun = Sun\n",
    "        Dec = np.radians(self.Sun.Declination)\n",
    "        HA = np.radians(self.Sun.HourAngle)\n",
    "        Lat = np.radians(self.Sun.Latitude)\n",
    "        PolarAxis = np.array([0, np.sin(Lat), np.cos(Lat)])\n",
    "        self.PolarAxis = PolarAxis\n",
    "        #\n",
    "        self.Dist_EW = 830.0  # East-West distance\n",
    "        self.Dist_ZN = 740.0  # North-South distance\n",
    "        #\n",
    "        A = -np.nan_to_num(np.abs(HA)/HA, nan=-1.0)*self.Dist_EW\n",
    "        B = self.Dist_ZN\n",
    "        SunPos = np.array([np.sin(HA)*np.cos(Dec), \n",
    "                           np.cos(HA)*np.cos(Dec)*np.cos(Lat) + np.sin(Dec)*np.sin(Lat), \n",
    "                           -np.cos(HA)*np.cos(Dec)*np.sin(Lat) + np.sin(Dec)*np.cos(Lat)])\n",
    "        #\n",
    "        TEMP = np.dot(SunPos, PolarAxis)\n",
    "        a = TEMP**2-PolarAxis[2]**2\n",
    "        b = -2*B*PolarAxis[1]*PolarAxis[2]\n",
    "        c = (A**2+B**2)*TEMP**2 - B**2*PolarAxis[1]**2\n",
    "#         self.a, self.b, self.c = a, b, c\n",
    "        if (a == 0):\n",
    "            C = -c/b\n",
    "        else:\n",
    "            C = (-b + np.nan_to_num(np.abs(Dec)/Dec, nan=1.0)*np.nan_to_num(np.sqrt(b**2-4*a*c)))/2.0/a\n",
    "        self.Dist_NS = np.abs(C)\n",
    "        #\n",
    "        self.Center1 = np.array([-A, 0.0, -C])\n",
    "        self.Center2 = np.array([0.0, B, 0.0])\n",
    "        #\n",
    "        self.Incidence1 = -SunPos\n",
    "        self.Reflection1 = np.array([A, B, C])/np.linalg.norm(np.array([A, B, C]))\n",
    "        self.Normal1 = (self.Reflection1-self.Incidence1)/np.linalg.norm(self.Reflection1-self.Incidence1)\n",
    "        self.Incidence2 = self.Reflection1\n",
    "        self.Reflection2 = np.array([0.0, -1.0, 0.0])\n",
    "        self.Normal2 = (self.Reflection2-self.Incidence2)/np.linalg.norm(self.Reflection2-self.Incidence2)\n",
    "        #\n",
    "        self.Sun.makeOrigin(self.Center1-self.Sun.Distance*self.Incidence1)\n",
    "        Sun_disp.makeOrigin(self.Center1-self.Sun.Distance*self.Incidence1)\n",
    "        #\n",
    "        self.M1 = Surface(600, Mirror=True, n2=2.16-7.18j)\n",
    "        self.M1.pointToDirection(self.Normal1)\n",
    "        self.M1.makeOrigin(self.Center1)\n",
    "        #\n",
    "        self.M2 = Surface(600, Mirror=True, n2=2.16-7.18j)\n",
    "        self.M2.pointToDirection(self.Normal2)\n",
    "        self.M2.makeOrigin(self.Center2)\n",
    "        #\n",
    "        self.Window = Detector(500.0)\n",
    "        self.Window.rotateAboutX(90.0)\n",
    "        System.__init__(self, self.Sun, [self.M1, self.M2], self.Window, dRays=Sun_disp)\n",
    "        return"
   ]
  },
  {
   "cell_type": "code",
   "execution_count": 3,
   "metadata": {
    "collapsed": false
   },
   "outputs": [
    {
     "name": "stderr",
     "output_type": "stream",
     "text": [
      "..\\PyAstroPol\\Surface.py:239: RuntimeWarning: invalid value encountered in true_divide\n",
      "  dplus = (-b+np.sqrt(b**2-4.0*a*c))/2.0/a\n",
      "..\\PyAstroPol\\Surface.py:240: RuntimeWarning: divide by zero encountered in true_divide\n",
      "  dminus = (-b-np.sqrt(b**2-4.0*a*c))/2.0/a\n",
      "..\\PyAstroPol\\Surface.py:239: RuntimeWarning: divide by zero encountered in true_divide\n",
      "  dplus = (-b+np.sqrt(b**2-4.0*a*c))/2.0/a\n",
      "..\\PyAstroPol\\Surface.py:240: RuntimeWarning: invalid value encountered in true_divide\n",
      "  dminus = (-b-np.sqrt(b**2-4.0*a*c))/2.0/a\n",
      "..\\PyAstroPol\\Surface.py:304: RuntimeWarning: divide by zero encountered in true_divide\n",
      "  tCosines = (self.iRays.oCosines + self.nCosines*np.cos(self.iTheta))/np.sin(self.iTheta)\n",
      "..\\PyAstroPol\\Surface.py:304: RuntimeWarning: invalid value encountered in true_divide\n",
      "  tCosines = (self.iRays.oCosines + self.nCosines*np.cos(self.iTheta))/np.sin(self.iTheta)\n"
     ]
    }
   ],
   "source": [
    "Sun = AstroSource(10000, Clear=500, Dec=10.0, HA=-50.0, Lat=10.23, Dist=5000.0)\n",
    "Sun_disp = AstroSource(20, Clear=500, Dec=10.0, HA=-50.0, Lat=10.23, Dist=5000.0)\n",
    "Coel = KTTCoelostat(Sun, Sun_disp)\n",
    "Coel.propagateRays()"
   ]
  },
  {
   "cell_type": "code",
   "execution_count": 4,
   "metadata": {
    "collapsed": false
   },
   "outputs": [
    {
     "name": "stderr",
     "output_type": "stream",
     "text": [
      "..\\PyAstroPol\\Surface.py:239: RuntimeWarning: invalid value encountered in true_divide\n",
      "  dplus = (-b+np.sqrt(b**2-4.0*a*c))/2.0/a\n",
      "..\\PyAstroPol\\Surface.py:240: RuntimeWarning: divide by zero encountered in true_divide\n",
      "  dminus = (-b-np.sqrt(b**2-4.0*a*c))/2.0/a\n",
      "..\\PyAstroPol\\Surface.py:239: RuntimeWarning: divide by zero encountered in true_divide\n",
      "  dplus = (-b+np.sqrt(b**2-4.0*a*c))/2.0/a\n",
      "..\\PyAstroPol\\Surface.py:240: RuntimeWarning: invalid value encountered in true_divide\n",
      "  dminus = (-b-np.sqrt(b**2-4.0*a*c))/2.0/a\n",
      "..\\PyAstroPol\\Surface.py:304: RuntimeWarning: divide by zero encountered in true_divide\n",
      "  tCosines = (self.iRays.oCosines + self.nCosines*np.cos(self.iTheta))/np.sin(self.iTheta)\n",
      "..\\PyAstroPol\\Surface.py:304: RuntimeWarning: invalid value encountered in true_divide\n",
      "  tCosines = (self.iRays.oCosines + self.nCosines*np.cos(self.iTheta))/np.sin(self.iTheta)\n"
     ]
    }
   ],
   "source": [
    "Fig = plt.figure()                                             \n",
    "Ax = Fig.add_subplot(111, projection='3d')\n",
    "Coel.draw(Ax)\n",
    "adjustAspect(Ax, 5000.0)"
   ]
  },
  {
   "cell_type": "code",
   "execution_count": 9,
   "metadata": {
    "collapsed": false
   },
   "outputs": [
    {
     "name": "stdout",
     "output_type": "stream",
     "text": [
      "Mueller matrix is : \n",
      " [[ 1.00000000 -0.05486736  0.05669466 -0.00151825]\n",
      " [-0.07816110  0.59072349 -0.80596515  0.03671616]\n",
      " [-0.01075105  0.78224898  0.56042807 -0.26056760]\n",
      " [-0.00150786  0.18951437  0.18255909  0.96152574]]\n"
     ]
    },
    {
     "name": "stderr",
     "output_type": "stream",
     "text": [
      "..\\PyAstroPol\\Surface.py:239: RuntimeWarning: invalid value encountered in true_divide\n",
      "  dplus = (-b+np.sqrt(b**2-4.0*a*c))/2.0/a\n",
      "..\\PyAstroPol\\Surface.py:240: RuntimeWarning: divide by zero encountered in true_divide\n",
      "  dminus = (-b-np.sqrt(b**2-4.0*a*c))/2.0/a\n"
     ]
    }
   ],
   "source": [
    "MM, Tra = Coel.getSystemMuellerMatrix()\n",
    "print('Mueller matrix is : \\n', MM)"
   ]
  },
  {
   "cell_type": "code",
   "execution_count": null,
   "metadata": {
    "collapsed": false
   },
   "outputs": [],
   "source": []
  }
 ],
 "metadata": {
  "kernelspec": {
   "display_name": "Python 3",
   "language": "python",
   "name": "python3"
  },
  "language_info": {
   "codemirror_mode": {
    "name": "ipython",
    "version": 3
   },
   "file_extension": ".py",
   "mimetype": "text/x-python",
   "name": "python",
   "nbconvert_exporter": "python",
   "pygments_lexer": "ipython3",
   "version": "3.6.0"
  }
 },
 "nbformat": 4,
 "nbformat_minor": 2
}
