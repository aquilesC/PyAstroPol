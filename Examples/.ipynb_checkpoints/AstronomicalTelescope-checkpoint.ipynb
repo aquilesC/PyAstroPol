{
 "cells": [
  {
   "cell_type": "code",
   "execution_count": 1,
   "metadata": {
    "collapsed": false
   },
   "outputs": [],
   "source": [
    "%matplotlib tk\n",
    "import numpy as np\n",
    "import sys\n",
    "from matplotlib import pyplot as plt\n",
    "from mpl_toolkits.mplot3d import Axes3D\n",
    "import random as rd\n",
    "import copy as cp\n",
    "from datetime import datetime as dt\n",
    "sys.path.append('..')\n",
    "from PyAstroPol import *"
   ]
  },
  {
   "cell_type": "code",
   "execution_count": 8,
   "metadata": {
    "collapsed": true
   },
   "outputs": [],
   "source": [
    "Fig = plt.figure()                                             \n",
    "Ax = Fig.add_subplot(111, projection='3d')"
   ]
  },
  {
   "cell_type": "code",
   "execution_count": 9,
   "metadata": {
    "collapsed": false
   },
   "outputs": [
    {
     "name": "stderr",
     "output_type": "stream",
     "text": [
      "..\\PyAstroPol\\Surface.py:215: RuntimeWarning: divide by zero encountered in true_divide\n",
      "  dnan_replace = -c/b\n",
      "..\\PyAstroPol\\Surface.py:219: RuntimeWarning: invalid value encountered in multiply\n",
      "  dplus = np.nan_to_num(dplus) + np.nan_to_num(dplus_mask*dnan_replace)\n",
      "..\\PyAstroPol\\Surface.py:220: RuntimeWarning: invalid value encountered in multiply\n",
      "  dminus = np.nan_to_num(dminus) + np.nan_to_num(dminus_mask*dnan_replace)\n",
      "..\\PyAstroPol\\Surface.py:280: RuntimeWarning: divide by zero encountered in true_divide\n",
      "  tCosines = (self.iRays.oCosines + self.nCosines*np.cos(self.iTheta))/np.sin(self.iTheta)\n",
      "..\\PyAstroPol\\Surface.py:280: RuntimeWarning: invalid value encountered in true_divide\n",
      "  tCosines = (self.iRays.oCosines + self.nCosines*np.cos(self.iTheta))/np.sin(self.iTheta)\n",
      "..\\PyAstroPol\\Surface.py:216: RuntimeWarning: divide by zero encountered in true_divide\n",
      "  dplus = (-b+np.sqrt(b**2-4.0*a*c))/2.0/a\n",
      "..\\PyAstroPol\\Surface.py:217: RuntimeWarning: invalid value encountered in true_divide\n",
      "  dminus = (-b-np.sqrt(b**2-4.0*a*c))/2.0/a\n",
      "..\\PyAstroPol\\Surface.py:278: RuntimeWarning: invalid value encountered in arccos\n",
      "  self.iTheta = np.arccos(dot3DVectors(self.nCosines, -self.iRays.oCosines))\n"
     ]
    }
   ],
   "source": [
    "for i in np.linspace(-90,90,7):\n",
    "    S = AstroSource(20, Clear=180, Dec=0.0, HA=i, Lat=15.0)\n",
    "    #\n",
    "    M1 = Surface(200, R=-2000, Mirror=True, n2=1.1+6.8j, iDia=40)   # Primary mirror with hole\n",
    "    M1.translateOrigin(z=0)\n",
    "    M1.rotateAboutY(S.ThetaY)\n",
    "    M1.rotateAboutX(S.ThetaX)\n",
    "    M1.propagateRays(S)\n",
    "    M1.draw(Ax, color='r')\n",
    "    M1.drawRays(Ax, color='k')\n",
    "    #\n",
    "    M2 = Surface(100, R=-500, Mirror=True, n2=1.1+6.8j)             # Secondary mirror with hole\n",
    "    M2.translateOrigin(z=-800)\n",
    "    M2.rotateAboutY(S.ThetaY)\n",
    "    M2.rotateAboutX(S.ThetaX)\n",
    "    M2.propagateRays(M1.rRays)\n",
    "    M2.draw(Ax, color='r')\n",
    "    M2.drawRays(Ax, color='k')\n",
    "    #\n",
    "    D = Detector(10)\n",
    "    D.translateOrigin(z=120)\n",
    "    D.rotateAboutY(S.ThetaY)\n",
    "    D.rotateAboutX(S.ThetaX)\n",
    "    D.propagateRays(M2.rRays)\n",
    "    D.draw(Ax, color='r')\n",
    "    D.drawRays(Ax, color='k')\n",
    "    #\n",
    "    adjustAspect(Ax, 2000.0)"
   ]
  },
  {
   "cell_type": "code",
   "execution_count": null,
   "metadata": {
    "collapsed": false
   },
   "outputs": [],
   "source": [
    "(-b+np.sqrt(b**2-4.0*a*c))/2.0/a"
   ]
  },
  {
   "cell_type": "code",
   "execution_count": null,
   "metadata": {
    "collapsed": true
   },
   "outputs": [],
   "source": [
    "a, b, c = M1.A, M1.B, M1.C"
   ]
  },
  {
   "cell_type": "code",
   "execution_count": null,
   "metadata": {
    "collapsed": false
   },
   "outputs": [],
   "source": [
    "dnan_replace = -c/b\n",
    "dplus = (-b+np.sqrt(b**2-4.0*a*c))/2.0/a\n",
    "dminus = (-b-np.sqrt(b**2-4.0*a*c))/2.0/a\n",
    "dplus_mask, dminus_mask = np.isnan(dplus), np.isnan(dminus)\n",
    "dplus2 = np.nan_to_num(dplus) + np.nan_to_num(dplus_mask*dnan_replace)\n",
    "dminus2 = np.nan_to_num(dminus) + dminus_mask*dnan_replace"
   ]
  },
  {
   "cell_type": "code",
   "execution_count": null,
   "metadata": {
    "collapsed": false
   },
   "outputs": [],
   "source": [
    "np.arccos(dot3DVectors(M1.nCosines, -M1.iRays.oCosines))"
   ]
  },
  {
   "cell_type": "code",
   "execution_count": null,
   "metadata": {
    "collapsed": false
   },
   "outputs": [],
   "source": [
    "np.nan_to_num(dplus, 0)"
   ]
  },
  {
   "cell_type": "code",
   "execution_count": null,
   "metadata": {
    "collapsed": false
   },
   "outputs": [],
   "source": [
    "dplus_mask*dnan_replace"
   ]
  },
  {
   "cell_type": "code",
   "execution_count": null,
   "metadata": {
    "collapsed": true
   },
   "outputs": [],
   "source": []
  }
 ],
 "metadata": {
  "kernelspec": {
   "display_name": "Python 3",
   "language": "python",
   "name": "python3"
  },
  "language_info": {
   "codemirror_mode": {
    "name": "ipython",
    "version": 3
   },
   "file_extension": ".py",
   "mimetype": "text/x-python",
   "name": "python",
   "nbconvert_exporter": "python",
   "pygments_lexer": "ipython3",
   "version": "3.6.0"
  }
 },
 "nbformat": 4,
 "nbformat_minor": 2
}
