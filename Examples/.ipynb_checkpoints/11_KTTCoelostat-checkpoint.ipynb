{
 "cells": [
  {
   "cell_type": "markdown",
   "metadata": {},
   "source": [
    "## Coelostat at Kodaikanal Tower-tunnel Telescope \n",
    "This is a specialized example of an astronomical device. The results from this are cross-checked with previous analysis of the same system. This also demonstrates how users can exploit the `System` class to create customized dynamic optical systems."
   ]
  },
  {
   "cell_type": "code",
   "execution_count": 1,
   "metadata": {
    "collapsed": true
   },
   "outputs": [],
   "source": [
    "# %matplotlib inline\n",
    "# %matplotlib tk\n",
    "# %matplotlib qt5\n",
    "import numpy as np\n",
    "import sys\n",
    "from matplotlib import pyplot as plt\n",
    "from mpl_toolkits.mplot3d import Axes3D\n",
    "import random as rd\n",
    "import copy as cp\n",
    "from datetime import datetime as dt\n",
    "#\n",
    "sys.path.append('..')\n",
    "from PyAstroPol import *\n",
    "roundOffDisplay(5)"
   ]
  },
  {
   "cell_type": "code",
   "execution_count": 2,
   "metadata": {
    "collapsed": true
   },
   "outputs": [],
   "source": [
    "class KTTCoelostat(System):\n",
    "    def __init__(self, Sun, Sun_disp):\n",
    "        #\n",
    "        self.Sun = Sun\n",
    "        Dec = np.radians(self.Sun.Declination)\n",
    "        HA = np.radians(self.Sun.HourAngle)\n",
    "        Lat = np.radians(self.Sun.Latitude)\n",
    "        PolarAxis = np.array([0, np.sin(Lat), np.cos(Lat)])\n",
    "        self.PolarAxis = PolarAxis\n",
    "        #\n",
    "        self.Dist_EW = 830.0  # East-West distance\n",
    "        self.Dist_ZN = 740.0  # North-South distance\n",
    "        #\n",
    "        A = -np.nan_to_num(np.abs(HA)/HA, nan=-1.0)*self.Dist_EW\n",
    "        B = self.Dist_ZN\n",
    "        SunPos = np.array([np.sin(HA)*np.cos(Dec), \n",
    "                           np.cos(HA)*np.cos(Dec)*np.cos(Lat) + np.sin(Dec)*np.sin(Lat), \n",
    "                           -np.cos(HA)*np.cos(Dec)*np.sin(Lat) + np.sin(Dec)*np.cos(Lat)])\n",
    "        #\n",
    "        TEMP = np.dot(SunPos, PolarAxis)\n",
    "        a = TEMP**2-PolarAxis[2]**2\n",
    "        b = -2*B*PolarAxis[1]*PolarAxis[2]\n",
    "        c = (A**2+B**2)*TEMP**2 - B**2*PolarAxis[1]**2\n",
    "        if (a == 0):\n",
    "            C = -c/b\n",
    "        else:\n",
    "            C = (-b + np.nan_to_num(np.abs(Dec)/Dec, nan=1.0)*np.nan_to_num(np.sqrt(b**2-4*a*c)))/2.0/a\n",
    "        self.Dist_NS = np.abs(C)\n",
    "        #\n",
    "        self.Center1 = np.array([-A, 0.0, -C])\n",
    "        self.Center2 = np.array([0.0, B, 0.0])\n",
    "        #\n",
    "        self.Incidence1 = -SunPos\n",
    "        self.Reflection1 = np.array([A, B, C])/np.linalg.norm(np.array([A, B, C]))\n",
    "        self.Normal1 = (self.Reflection1-self.Incidence1)/np.linalg.norm(self.Reflection1-self.Incidence1)\n",
    "        self.Incidence2 = self.Reflection1\n",
    "        self.Reflection2 = np.array([0.0, -1.0, 0.0])\n",
    "        self.Normal2 = (self.Reflection2-self.Incidence2)/np.linalg.norm(self.Reflection2-self.Incidence2)\n",
    "        #\n",
    "        self.Sun.makeOrigin(self.Center1-self.Sun.Distance*self.Incidence1)\n",
    "        Sun_disp.makeOrigin(self.Center1-self.Sun.Distance*self.Incidence1)\n",
    "        #\n",
    "        C12 = Coating([2.16-7.18j, 1.67], [0.100, 0.00])\n",
    "        self.M1 = Surface(600, Mirror=True, n2=2.16-7.18j)\n",
    "        self.M1.pointToDirection(self.Normal1)\n",
    "        self.M1.makeOrigin(self.Center1)\n",
    "        # self.M1.Coating = C12\n",
    "        #\n",
    "        self.M2 = Surface(600, Mirror=True, n2=2.16-7.18j)\n",
    "        self.M2.pointToDirection(self.Normal2)\n",
    "        self.M2.makeOrigin(self.Center2)\n",
    "        # self.M2.Coating = C12\n",
    "        #\n",
    "        self.Window = Detector(500.0)\n",
    "        self.Window.rotateAboutX(90.0)\n",
    "        System.__init__(self, self.Sun, [self.M1, self.M2], self.Window, dRays=Sun_disp)\n",
    "        return"
   ]
  },
  {
   "cell_type": "code",
   "execution_count": 3,
   "metadata": {
    "collapsed": false
   },
   "outputs": [
    {
     "name": "stderr",
     "output_type": "stream",
     "text": [
      "C:\\Users\\pruthvi\\Nextcloud\\Work\\HELLRIDE\\2_Development\\PyAstroPol\\PyAstroPol\\Surface.py:268: RuntimeWarning: invalid value encountered in true_divide\n",
      "  dplus = (-b+np.sqrt(b**2-4.0*a*c))/2.0/a\n",
      "C:\\Users\\pruthvi\\Nextcloud\\Work\\HELLRIDE\\2_Development\\PyAstroPol\\PyAstroPol\\Surface.py:269: RuntimeWarning: divide by zero encountered in true_divide\n",
      "  dminus = (-b-np.sqrt(b**2-4.0*a*c))/2.0/a\n",
      "C:\\Users\\pruthvi\\Nextcloud\\Work\\HELLRIDE\\2_Development\\PyAstroPol\\PyAstroPol\\Surface.py:268: RuntimeWarning: divide by zero encountered in true_divide\n",
      "  dplus = (-b+np.sqrt(b**2-4.0*a*c))/2.0/a\n",
      "C:\\Users\\pruthvi\\Nextcloud\\Work\\HELLRIDE\\2_Development\\PyAstroPol\\PyAstroPol\\Surface.py:269: RuntimeWarning: invalid value encountered in true_divide\n",
      "  dminus = (-b-np.sqrt(b**2-4.0*a*c))/2.0/a\n",
      "C:\\Users\\pruthvi\\Nextcloud\\Work\\HELLRIDE\\2_Development\\PyAstroPol\\PyAstroPol\\Surface.py:337: RuntimeWarning: divide by zero encountered in true_divide\n",
      "  tCosines = (self.iRays.oCosines + self.nCosines*np.cos(self.iTheta))/np.sin(self.iTheta)\n",
      "C:\\Users\\pruthvi\\Nextcloud\\Work\\HELLRIDE\\2_Development\\PyAstroPol\\PyAstroPol\\Surface.py:337: RuntimeWarning: invalid value encountered in true_divide\n",
      "  tCosines = (self.iRays.oCosines + self.nCosines*np.cos(self.iTheta))/np.sin(self.iTheta)\n"
     ]
    }
   ],
   "source": [
    "Sun = AstroSource(10000, Clear=300, Dec=10.0, HA=-40.0, Lat=10.23, Dist=5000.0)             # Position of the Sun\n",
    "Sun_disp = AstroSource(20, Clear=300, Dec=10.0, HA=-40.0, Lat=10.23, Dist=5000.0)           # Source for display\n",
    "Coel = KTTCoelostat(Sun, Sun_disp)                                                          # Coelostat configuration\n",
    "Coel.propagateRays()                                                                        # "
   ]
  },
  {
   "cell_type": "code",
   "execution_count": 4,
   "metadata": {
    "collapsed": false
   },
   "outputs": [
    {
     "name": "stderr",
     "output_type": "stream",
     "text": [
      "C:\\Users\\pruthvi\\Nextcloud\\Work\\HELLRIDE\\2_Development\\PyAstroPol\\PyAstroPol\\Surface.py:268: RuntimeWarning: invalid value encountered in true_divide\n",
      "  dplus = (-b+np.sqrt(b**2-4.0*a*c))/2.0/a\n",
      "C:\\Users\\pruthvi\\Nextcloud\\Work\\HELLRIDE\\2_Development\\PyAstroPol\\PyAstroPol\\Surface.py:269: RuntimeWarning: divide by zero encountered in true_divide\n",
      "  dminus = (-b-np.sqrt(b**2-4.0*a*c))/2.0/a\n",
      "C:\\Users\\pruthvi\\Nextcloud\\Work\\HELLRIDE\\2_Development\\PyAstroPol\\PyAstroPol\\Surface.py:268: RuntimeWarning: divide by zero encountered in true_divide\n",
      "  dplus = (-b+np.sqrt(b**2-4.0*a*c))/2.0/a\n",
      "C:\\Users\\pruthvi\\Nextcloud\\Work\\HELLRIDE\\2_Development\\PyAstroPol\\PyAstroPol\\Surface.py:269: RuntimeWarning: invalid value encountered in true_divide\n",
      "  dminus = (-b-np.sqrt(b**2-4.0*a*c))/2.0/a\n",
      "C:\\Users\\pruthvi\\Nextcloud\\Work\\HELLRIDE\\2_Development\\PyAstroPol\\PyAstroPol\\Surface.py:337: RuntimeWarning: divide by zero encountered in true_divide\n",
      "  tCosines = (self.iRays.oCosines + self.nCosines*np.cos(self.iTheta))/np.sin(self.iTheta)\n",
      "C:\\Users\\pruthvi\\Nextcloud\\Work\\HELLRIDE\\2_Development\\PyAstroPol\\PyAstroPol\\Surface.py:337: RuntimeWarning: invalid value encountered in true_divide\n",
      "  tCosines = (self.iRays.oCosines + self.nCosines*np.cos(self.iTheta))/np.sin(self.iTheta)\n"
     ]
    },
    {
     "data": {
      "image/png": "[encoded data removed]",
      "text/plain": [
       "<matplotlib.figure.Figure at 0x1879bc266a0>"
      ]
     },
     "metadata": {},
     "output_type": "display_data"
    }
   ],
   "source": [
    "Fig = plt.figure()                                             \n",
    "Ax = Fig.add_subplot(111, projection='3d')\n",
    "Coel.draw(Ax)\n",
    "adjustAspect(Ax, 5000.0)\n",
    "plt.show()"
   ]
  },
  {
   "cell_type": "code",
   "execution_count": 5,
   "metadata": {
    "collapsed": false,
    "tags": []
   },
   "outputs": [
    {
     "name": "stdout",
     "output_type": "stream",
     "text": [
      "Mueller matrix is : \n",
      " [[ 1.00000 -0.04786  0.04438  0.00105]\n",
      " [-0.06508  0.67794 -0.73490 -0.01715]\n",
      " [-0.00499  0.71865  0.65745  0.21693]\n",
      " [ 0.00105 -0.14820 -0.15934  0.97385]]\n",
      "Throughput is :  0.7341633951470367\n"
     ]
    },
    {
     "name": "stderr",
     "output_type": "stream",
     "text": [
      "C:\\Users\\pruthvi\\Nextcloud\\Work\\HELLRIDE\\2_Development\\PyAstroPol\\PyAstroPol\\Surface.py:268: RuntimeWarning: invalid value encountered in true_divide\n",
      "  dplus = (-b+np.sqrt(b**2-4.0*a*c))/2.0/a\n",
      "C:\\Users\\pruthvi\\Nextcloud\\Work\\HELLRIDE\\2_Development\\PyAstroPol\\PyAstroPol\\Surface.py:269: RuntimeWarning: divide by zero encountered in true_divide\n",
      "  dminus = (-b-np.sqrt(b**2-4.0*a*c))/2.0/a\n"
     ]
    }
   ],
   "source": [
    "MM, Tra = Coel.getSystemMuellerMatrix()\n",
    "print('Mueller matrix is : \\n', MM)\n",
    "print('Throughput is : ', Tra)"
   ]
  },
  {
   "cell_type": "code",
   "execution_count": 6,
   "metadata": {
    "collapsed": false,
    "tags": []
   },
   "outputs": [
    {
     "name": "stdout",
     "output_type": "stream",
     "text": [
      "M1 rs :  (-0.9316611942445823+0.17181090297388768j)\n",
      "M1 rp :  (0.8443366256955277-0.31234141535058946j)\n",
      "M2 rs :  (-0.9093430229205087+0.2129836696764579j)\n",
      "M2 rp :  (0.8835656107703029-0.255328527692456j)\n",
      "Mueller matrix to be compared with previous work : \n",
      " [[ 1.00000  0.06499 -0.00606  0.00105]\n",
      " [ 0.06199  0.91602 -0.39470  0.06854]\n",
      " [ 0.02041  0.40055  0.89054 -0.20653]\n",
      " [ 0.00105  0.02054  0.21664  0.97385]]\n"
     ]
    }
   ],
   "source": [
    "print('M1 rs : ', Coel.Components[0].rs[0,0])\n",
    "print('M1 rp : ', Coel.Components[0].rp[0,0])\n",
    "print('M2 rs : ', Coel.Components[1].rs[0,0])\n",
    "print('M2 rp : ', Coel.Components[1].rp[0,0])\n",
    "A1 = np.degrees(Coel.Components[0].CoordTheta[0,0])\n",
    "A2 = np.degrees(Coel.Components[1].CoordTheta[0,0])\n",
    "MM_ZMX = MuellerRotationMatrix(A2)*MM*MuellerRotationMatrix(-A1)\n",
    "print('Mueller matrix to be compared with previous work : \\n', MM_ZMX)"
   ]
  }
 ],
 "metadata": {
  "kernelspec": {
   "display_name": "Python 3",
   "language": "python",
   "name": "python3"
  },
  "language_info": {
   "codemirror_mode": {
    "name": "ipython",
    "version": 3
   },
   "file_extension": ".py",
   "mimetype": "text/x-python",
   "name": "python",
   "nbconvert_exporter": "python",
   "pygments_lexer": "ipython3",
   "version": "3.6.0"
  }
 },
 "nbformat": 4,
 "nbformat_minor": 2
}
