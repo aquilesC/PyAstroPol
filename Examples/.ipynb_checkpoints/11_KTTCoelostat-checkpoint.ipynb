{
 "cells": [
  {
   "cell_type": "markdown",
   "metadata": {},
   "source": [
    "## Coelostat at Kodaikanal Tower-tunnel Telescope \n",
    "This is a specialized example of an astronomical device. The results from this are cross-checked with previous analysis of the same system. This also demonstrates how users can exploit the `System` class to create customized dynamic optical systems."
   ]
  },
  {
   "cell_type": "code",
   "execution_count": 1,
   "metadata": {
    "collapsed": true
   },
   "outputs": [],
   "source": [
    "# %matplotlib inline\n",
    "# %matplotlib tk\n",
    "# %matplotlib qt5\n",
    "import numpy as np\n",
    "import sys\n",
    "from matplotlib import pyplot as plt\n",
    "from mpl_toolkits.mplot3d import Axes3D\n",
    "import random as rd\n",
    "import copy as cp\n",
    "from datetime import datetime as dt\n",
    "#\n",
    "sys.path.append('..')\n",
    "from PyAstroPol import *\n",
    "roundOffDisplay(5)"
   ]
  },
  {
   "cell_type": "code",
   "execution_count": 2,
   "metadata": {
    "collapsed": true
   },
   "outputs": [],
   "source": [
    "class KTTCoelostat(System):\n",
    "    def __init__(self, Sun, Sun_disp):\n",
    "        #\n",
    "        self.Sun = Sun\n",
    "        Dec = np.radians(self.Sun.Declination)\n",
    "        HA = np.radians(self.Sun.HourAngle)\n",
    "        Lat = np.radians(self.Sun.Latitude)\n",
    "        PolarAxis = np.array([0, np.sin(Lat), np.cos(Lat)])\n",
    "        self.PolarAxis = PolarAxis\n",
    "        #\n",
    "        self.Dist_EW = 830.0  # East-West distance\n",
    "        self.Dist_ZN = 740.0  # North-South distance\n",
    "        #\n",
    "        A = -np.nan_to_num(np.abs(HA)/HA, nan=-1.0)*self.Dist_EW\n",
    "        B = self.Dist_ZN\n",
    "        SunPos = np.array([np.sin(HA)*np.cos(Dec), \n",
    "                           np.cos(HA)*np.cos(Dec)*np.cos(Lat) + np.sin(Dec)*np.sin(Lat), \n",
    "                           -np.cos(HA)*np.cos(Dec)*np.sin(Lat) + np.sin(Dec)*np.cos(Lat)])\n",
    "        #\n",
    "        TEMP = np.dot(SunPos, PolarAxis)\n",
    "        a = TEMP**2-PolarAxis[2]**2\n",
    "        b = -2*B*PolarAxis[1]*PolarAxis[2]\n",
    "        c = (A**2+B**2)*TEMP**2 - B**2*PolarAxis[1]**2\n",
    "        if (a == 0):\n",
    "            C = -c/b\n",
    "        else:\n",
    "            C = (-b + np.nan_to_num(np.abs(Dec)/Dec, nan=1.0)*np.nan_to_num(np.sqrt(b**2-4*a*c)))/2.0/a\n",
    "        self.Dist_NS = np.abs(C)\n",
    "        #\n",
    "        self.Center1 = np.array([-A, 0.0, -C])\n",
    "        self.Center2 = np.array([0.0, B, 0.0])\n",
    "        #\n",
    "        self.Incidence1 = -SunPos\n",
    "        self.Reflection1 = np.array([A, B, C])/np.linalg.norm(np.array([A, B, C]))\n",
    "        self.Normal1 = (self.Reflection1-self.Incidence1)/np.linalg.norm(self.Reflection1-self.Incidence1)\n",
    "        self.Incidence2 = self.Reflection1\n",
    "        self.Reflection2 = np.array([0.0, -1.0, 0.0])\n",
    "        self.Normal2 = (self.Reflection2-self.Incidence2)/np.linalg.norm(self.Reflection2-self.Incidence2)\n",
    "        #\n",
    "        self.Sun.makeOrigin(self.Center1-self.Sun.Distance*self.Incidence1)\n",
    "        Sun_disp.makeOrigin(self.Center1-self.Sun.Distance*self.Incidence1)\n",
    "        #\n",
    "        C12 = Coating([2.16-7.18j, 1.67], [0.100, 0.00])\n",
    "        self.M1 = Surface(600, Mirror=True, n2=2.16-7.18j)\n",
    "        self.M1.pointToDirection(self.Normal1)\n",
    "        self.M1.makeOrigin(self.Center1)\n",
    "        # self.M1.Coating = C12\n",
    "        #\n",
    "        self.M2 = Surface(600, Mirror=True, n2=2.16-7.18j)\n",
    "        self.M2.pointToDirection(self.Normal2)\n",
    "        self.M2.makeOrigin(self.Center2)\n",
    "        # self.M2.Coating = C12\n",
    "        #\n",
    "        self.Window = Detector(500.0)\n",
    "        self.Window.rotateAboutX(90.0)\n",
    "        System.__init__(self, self.Sun, [self.M1, self.M2], self.Window, dRays=Sun_disp)\n",
    "        return"
   ]
  },
  {
   "cell_type": "code",
   "execution_count": 3,
   "metadata": {
    "collapsed": false
   },
   "outputs": [
    {
     "name": "stderr",
     "output_type": "stream",
     "text": [
      "C:\\Users\\pruthvi\\Nextcloud\\Work\\HELLRIDE\\2_Development\\PyAstroPol\\PyAstroPol\\Surface.py:268: RuntimeWarning: invalid value encountered in true_divide\n",
      "  dplus = (-b+np.sqrt(b**2-4.0*a*c))/2.0/a\n",
      "C:\\Users\\pruthvi\\Nextcloud\\Work\\HELLRIDE\\2_Development\\PyAstroPol\\PyAstroPol\\Surface.py:269: RuntimeWarning: divide by zero encountered in true_divide\n",
      "  dminus = (-b-np.sqrt(b**2-4.0*a*c))/2.0/a\n",
      "C:\\Users\\pruthvi\\Nextcloud\\Work\\HELLRIDE\\2_Development\\PyAstroPol\\PyAstroPol\\Surface.py:268: RuntimeWarning: divide by zero encountered in true_divide\n",
      "  dplus = (-b+np.sqrt(b**2-4.0*a*c))/2.0/a\n",
      "C:\\Users\\pruthvi\\Nextcloud\\Work\\HELLRIDE\\2_Development\\PyAstroPol\\PyAstroPol\\Surface.py:269: RuntimeWarning: invalid value encountered in true_divide\n",
      "  dminus = (-b-np.sqrt(b**2-4.0*a*c))/2.0/a\n",
      "C:\\Users\\pruthvi\\Nextcloud\\Work\\HELLRIDE\\2_Development\\PyAstroPol\\PyAstroPol\\Surface.py:337: RuntimeWarning: divide by zero encountered in true_divide\n",
      "  tCosines = (self.iRays.oCosines + self.nCosines*np.cos(self.iTheta))/np.sin(self.iTheta)\n",
      "C:\\Users\\pruthvi\\Nextcloud\\Work\\HELLRIDE\\2_Development\\PyAstroPol\\PyAstroPol\\Surface.py:337: RuntimeWarning: invalid value encountered in true_divide\n",
      "  tCosines = (self.iRays.oCosines + self.nCosines*np.cos(self.iTheta))/np.sin(self.iTheta)\n"
     ]
    }
   ],
   "source": [
    "Sun = AstroSource(10000, Clear=300, Dec=10.0, HA=-40.0, Lat=10.23, Dist=5000.0)             # Position of the Sun\n",
    "Sun_disp = AstroSource(20, Clear=300, Dec=10.0, HA=-40.0, Lat=10.23, Dist=5000.0)           # Source for display\n",
    "Coel = KTTCoelostat(Sun, Sun_disp)                                                          # Coelostat configuration\n",
    "Coel.propagateRays()                                                                        # "
   ]
  },
  {
   "cell_type": "code",
   "execution_count": null,
   "metadata": {
    "collapsed": false
   },
   "outputs": [],
   "source": [
    "Fig = plt.figure()                                             \n",
    "Ax = Fig.add_subplot(111, projection='3d')\n",
    "Coel.draw(Ax)\n",
    "adjustAspect(Ax, 5000.0)\n",
    "plt.show()"
   ]
  },
  {
   "cell_type": "code",
   "execution_count": 4,
   "metadata": {
    "collapsed": false,
    "tags": []
   },
   "outputs": [
    {
     "name": "stdout",
     "output_type": "stream",
     "text": [
      "Mueller matrix is : \n",
      " [[ 1.00000 -0.04786  0.04438  0.00105]\n",
      " [-0.06508  0.67794 -0.73490 -0.01715]\n",
      " [-0.00499  0.71865  0.65745  0.21693]\n",
      " [ 0.00105 -0.14820 -0.15934  0.97385]]\n",
      "Throughput is :  0.7341633951470367\n"
     ]
    },
    {
     "name": "stderr",
     "output_type": "stream",
     "text": [
      "C:\\Users\\pruthvi\\Nextcloud\\Work\\HELLRIDE\\2_Development\\PyAstroPol\\PyAstroPol\\Surface.py:268: RuntimeWarning: invalid value encountered in true_divide\n",
      "  dplus = (-b+np.sqrt(b**2-4.0*a*c))/2.0/a\n",
      "C:\\Users\\pruthvi\\Nextcloud\\Work\\HELLRIDE\\2_Development\\PyAstroPol\\PyAstroPol\\Surface.py:269: RuntimeWarning: divide by zero encountered in true_divide\n",
      "  dminus = (-b-np.sqrt(b**2-4.0*a*c))/2.0/a\n"
     ]
    }
   ],
   "source": [
    "MM, Tra = Coel.getSystemMuellerMatrix()\n",
    "print('Mueller matrix is : \\n', MM)\n",
    "print('Throughput is : ', Tra)"
   ]
  },
  {
   "cell_type": "code",
   "execution_count": 36,
   "metadata": {
    "collapsed": false,
    "tags": []
   },
   "outputs": [
    {
     "name": "stdout",
     "output_type": "stream",
     "text": [
      "M1 rs :  (-0.9316611942445823+0.17181090297388768j)\n",
      "M1 rp :  (0.8443366256955277-0.31234141535058946j)\n",
      "M2 rs :  (-0.9093430229205087+0.2129836696764579j)\n",
      "M2 rp :  (0.8835656107703029-0.255328527692456j)\n",
      "Mueller matrix to be compared with previous work : \n",
      " [[ 1.00000  0.06499 -0.00606  0.00105]\n",
      " [ 0.06199  0.91602 -0.39470  0.06854]\n",
      " [ 0.02041  0.40055  0.89054 -0.20653]\n",
      " [ 0.00105  0.02054  0.21664  0.97385]]\n"
     ]
    }
   ],
   "source": [
    "print('M1 rs : ', Coel.Components[0].rs[0,0])\n",
    "print('M1 rp : ', Coel.Components[0].rp[0,0])\n",
    "print('M2 rs : ', Coel.Components[1].rs[0,0])\n",
    "print('M2 rp : ', Coel.Components[1].rp[0,0])\n",
    "A1 = np.degrees(Coel.Components[0].CoordTheta[0,0])\n",
    "A2 = np.degrees(Coel.Components[1].CoordTheta[0,0])\n",
    "MM_ZMX = MM*MuellerRotationMatrix(-A1)\n",
    "print('Mueller matrix to be compared with previous work : \\n', MM_ZMX)"
   ]
  },
  {
   "cell_type": "code",
   "execution_count": 33,
   "metadata": {
    "collapsed": false
   },
   "outputs": [
    {
     "data": {
      "text/plain": [
       "-96.92032546053868"
      ]
     },
     "execution_count": 33,
     "metadata": {},
     "output_type": "execute_result"
    }
   ],
   "source": [
    "A2"
   ]
  },
  {
   "cell_type": "markdown",
   "metadata": {},
   "source": [
    "## Comparison with ZEMAX"
   ]
  },
  {
   "cell_type": "code",
   "execution_count": 47,
   "metadata": {
    "collapsed": false
   },
   "outputs": [],
   "source": [
    "from pyzdde import zdde as pyz\n",
    "# Creating link with Zemax - user function\n",
    "def createZLink(ZEMAXFileName):\n",
    "    LINK = pyz.createLink()\n",
    "    print('Link descritpion: ', LINK)\n",
    "    if not LINK.zPushLensPermission():\n",
    "        print('ERROR: Enable Allow Extensions to Push Lenses in ZEMAX>File>Preferences>Editors')\n",
    "        LINK.close()\n",
    "    else:\n",
    "        print('Refresh the Link: ', LINK.zGetRefresh())\n",
    "        LINK.zLoadFile(ZEMAXFileName)\n",
    "        print('Push Lens: ', LINK.zPushLens())\n",
    "    return LINK\n",
    "# Setting source polarization - internal function\n",
    "def setSourcePolarization(LINK, SOURCE, JX, JY, PX, PY):\n",
    "    LINK.zSetNSCProperty(surfNum=1, objNum=SOURCE, faceNum=0, code=101, value=0)\n",
    "    LINK.zSetNSCProperty(surfNum=1, objNum=SOURCE, faceNum=0, code=103, value=JX)\n",
    "    LINK.zSetNSCProperty(surfNum=1, objNum=SOURCE, faceNum=0, code=104, value=JY)\n",
    "    LINK.zSetNSCProperty(surfNum=1, objNum=SOURCE, faceNum=0, code=105, value=PX)\n",
    "    LINK.zSetNSCProperty(surfNum=1, objNum=SOURCE, faceNum=0, code=106, value=PY)\n",
    "# Set different input polarizations for the sake of polarimetry - internal function\n",
    "def setInput(LINK, SOURCE, INT):\n",
    "    if (INT == 1): # Q\n",
    "        setSourcePolarization(LINK, SOURCE, 1, 0, 0, 0)\n",
    "        print('Source polarization: Only Q')\n",
    "    elif (INT == 2): # -Q\n",
    "        setSourcePolarization(LINK, SOURCE,0, 1, 0, 0)\n",
    "        print('Source polarization: Only -Q')\n",
    "    elif (INT == 3): # U\n",
    "        setSourcePolarization(LINK, SOURCE, 1, 1, 0, 0)\n",
    "        print('Source polarization: Only U')\n",
    "    elif (INT == 4): # -U\n",
    "        setSourcePolarization(LINK, SOURCE, 1, -1, 0, 0)\n",
    "        print('Source polarization: Only -U')\n",
    "    elif (INT == 5): # V\n",
    "        setSourcePolarization(LINK, SOURCE, 1, 1, 0, -90)\n",
    "        print('Source polarization: Only V')\n",
    "    elif (INT == 6): # -V\n",
    "        setSourcePolarization(LINK, SOURCE, 1, 1, 0, 90)\n",
    "        print('Source polarization: Only -V')\n",
    "    else:\n",
    "        print('Error: Invalid polarization code')\n",
    "# Modulation implementation - internal function    \n",
    "def setPolarimeterModulation(LINK, POLMETER, A_real, A_imag, B_real, B_imag, C_real, C_imag, D_real, D_imag):\n",
    "    LINK.zSetNSCParameter(surfNum=1, objNum=POLMETER, paramNum=3, data=A_real)\n",
    "    LINK.zSetNSCParameter(surfNum=1, objNum=POLMETER, paramNum=4, data=A_imag)\n",
    "    LINK.zSetNSCParameter(surfNum=1, objNum=POLMETER, paramNum=5, data=B_real)\n",
    "    LINK.zSetNSCParameter(surfNum=1, objNum=POLMETER, paramNum=6, data=B_imag)\n",
    "    LINK.zSetNSCParameter(surfNum=1, objNum=POLMETER, paramNum=7, data=C_real)\n",
    "    LINK.zSetNSCParameter(surfNum=1, objNum=POLMETER, paramNum=8, data=C_imag)\n",
    "    LINK.zSetNSCParameter(surfNum=1, objNum=POLMETER, paramNum=9, data=D_real)\n",
    "    LINK.zSetNSCParameter(surfNum=1, objNum=POLMETER, paramNum=10, data=D_imag)\n",
    "# Setting modulation  - internal function \n",
    "def setModulation(LINK, POLMETER, INT): # For Stokes definition scheme\n",
    "    if (INT == 1): # I+Q\n",
    "        setPolarimeterModulation(LINK, POLMETER, 1, 0, 0, 0, 0, 0, 0, 0)\n",
    "    elif (INT == 2): # I-Q\n",
    "        setPolarimeterModulation(LINK, POLMETER, 0, 0, 0, 0, 0, 0, 1, 0)\n",
    "    elif (INT == 3): # I+U\n",
    "        setPolarimeterModulation(LINK, POLMETER, 0.5, 0, 0.5, 0, 0.5, 0, 0.5, 0)\n",
    "    elif (INT == 4): # I-U\n",
    "        setPolarimeterModulation(LINK, POLMETER, 0.5, 0, -0.5, 0, -0.5, 0, 0.5, 0)\n",
    "    elif (INT == 5): # I+V\n",
    "        setPolarimeterModulation(LINK, POLMETER, 0.5, 0.5, -0.5, 0.5, 0, 0, 0, 0)\n",
    "    elif (INT == 6): # I-V\n",
    "        setPolarimeterModulation(LINK, POLMETER, 0.5, 0.5, 0.5, -0.5, 0, 0, 0, 0)\n",
    "    else:\n",
    "        print('Error: Invalid modulation number')\n",
    "        return    \n",
    "# Run polarimetry to get system Mueller matrix - user function\n",
    "def runPolarimetry(LINK, SOURCE, POLMETER):\n",
    "    # Define intensity matrix\n",
    "    I = np.zeros([6,6])\n",
    "    LINK.zSetNSCParameter(surfNum=1, objNum=SOURCE, paramNum=2, data=100)\n",
    "    for j in range(6):\n",
    "        setInput(LINK, SOURCE, j+1)\n",
    "        for i in range(6):\n",
    "            setModulation(LINK, POLMETER, i+1)\n",
    "            LINK.zNSCDetectorClear(surfNum=1)\n",
    "            LINK.zNSCTrace(surfNum=1, srcNum=SOURCE, usePolar=1)\n",
    "            print('Modulation: ', i+1, ' done')\n",
    "            DET = LINK.zGetDetectorViewer()\n",
    "            I[i,j] = DET.totPow\n",
    "    LINK.zGetUpdate()\n",
    "    LINK.zPushLens()\n",
    "    LINK.zGetRefresh()\n",
    "    return I"
   ]
  },
  {
   "cell_type": "code",
   "execution_count": 48,
   "metadata": {
    "collapsed": false
   },
   "outputs": [
    {
     "name": "stdout",
     "output_type": "stream",
     "text": [
      "Link descritpion:  PyZDDE(appName='ZEMAX1', appNum=2, connection=True, macroPath=None)\n",
      "Refresh the Link:  0\n",
      "Push Lens:  0\n"
     ]
    }
   ],
   "source": [
    "LINK = createZLink('./11_KTTCoelostat.ZMX')"
   ]
  },
  {
   "cell_type": "code",
   "execution_count": 49,
   "metadata": {
    "collapsed": false
   },
   "outputs": [
    {
     "name": "stdout",
     "output_type": "stream",
     "text": [
      "Source polarization: Only Q\n",
      "Modulation:  1  done\n",
      "Modulation:  2  done\n",
      "Modulation:  3  done\n",
      "Modulation:  4  done\n",
      "Modulation:  5  done\n",
      "Modulation:  6  done\n",
      "Source polarization: Only -Q\n",
      "Modulation:  1  done\n",
      "Modulation:  2  done\n",
      "Modulation:  3  done\n",
      "Modulation:  4  done\n",
      "Modulation:  5  done\n",
      "Modulation:  6  done\n",
      "Source polarization: Only U\n",
      "Modulation:  1  done\n",
      "Modulation:  2  done\n",
      "Modulation:  3  done\n",
      "Modulation:  4  done\n",
      "Modulation:  5  done\n",
      "Modulation:  6  done\n",
      "Source polarization: Only -U\n",
      "Modulation:  1  done\n",
      "Modulation:  2  done\n",
      "Modulation:  3  done\n",
      "Modulation:  4  done\n",
      "Modulation:  5  done\n",
      "Modulation:  6  done\n",
      "Source polarization: Only V\n",
      "Modulation:  1  done\n",
      "Modulation:  2  done\n",
      "Modulation:  3  done\n",
      "Modulation:  4  done\n",
      "Modulation:  5  done\n",
      "Modulation:  6  done\n",
      "Source polarization: Only -V\n",
      "Modulation:  1  done\n",
      "Modulation:  2  done\n",
      "Modulation:  3  done\n",
      "Modulation:  4  done\n",
      "Modulation:  5  done\n",
      "Modulation:  6  done\n",
      "Update:  0\n",
      "Push Lens:  0\n",
      "Refresh:  0\n"
     ]
    }
   ],
   "source": [
    "SOURCE, M1, M2, POLMETER, DETECTOR = 1, 2, 3, 4, 5\n",
    "# Primary mirror\n",
    "M1_YT = np.arcsin(Coel.Normal1[0])\n",
    "M1_XT = np.arctan2(-Coel.Normal1[1]/np.cos(M1_YT), Coel.Normal1[2]/np.cos(M1_YT))\n",
    "M1_X0, M1_Y0, M1_Z0 = Coel.M1.Origin - Coel.M2.Origin\n",
    "# Secondary mirror\n",
    "M2_YT = np.arcsin(Coel.Normal2[0])\n",
    "M2_XT = np.arctan2(-Coel.Normal2[1]/np.cos(M2_YT), Coel.Normal2[2]/np.cos(M2_YT))\n",
    "# Source\n",
    "SOURCE_YT = np.arcsin(Coel.Incidence1[0])\n",
    "SOURCE_XT = np.arctan2(-Coel.Incidence1[1]/np.cos(SOURCE_YT), Coel.Incidence1[2]/np.cos(SOURCE_YT))\n",
    "SOURCE_X0 = -5000*Coel.Incidence1[0] + M1_X0\n",
    "SOURCE_Y0 = -5000*Coel.Incidence1[1] + M1_Y0\n",
    "SOURCE_Z0 = -5000*Coel.Incidence1[2] + M1_Z0\n",
    "\n",
    "# Set Source parameters\n",
    "LINK.zSetNSCPositionTuple(1, SOURCE, x=SOURCE_X0, y=SOURCE_Y0, z=SOURCE_Z0, \n",
    "                          tiltX=np.degrees(SOURCE_XT), tiltY=np.degrees(SOURCE_YT))\n",
    "LINK.zGetUpdate()\n",
    "LINK.zPushLens()\n",
    "LINK.zGetRefresh()\n",
    "               \n",
    "# Set M1 parameters\n",
    "LINK.zSetNSCPositionTuple(1, M1, x=M1_X0, y=M1_Y0, z=M1_Z0, \n",
    "                          tiltX=np.degrees(M1_XT), tiltY=np.degrees(M1_YT), \n",
    "                          material='MIRROR')\n",
    "LINK.zGetUpdate()\n",
    "LINK.zPushLens()\n",
    "LINK.zGetRefresh()\n",
    "\n",
    "# Set M2 parameters\n",
    "LINK.zSetNSCPositionTuple(1, M2, x=0, y=0, z=0,\n",
    "                          tiltX=np.degrees(M2_XT), tiltY=np.degrees(M2_YT), \n",
    "                          material='MIRROR')\n",
    "LINK.zGetUpdate()\n",
    "LINK.zPushLens()\n",
    "LINK.zGetRefresh()\n",
    "\n",
    "# Polarimetry to get instrumental polarization\n",
    "I = runPolarimetry(LINK, SOURCE, POLMETER)\n",
    "# Print results\n",
    "print('Update: ', LINK.zGetUpdate())\n",
    "print('Push Lens: ', LINK.zPushLens())\n",
    "print('Refresh: ', LINK.zGetRefresh())\n",
    "MODMATRIX = np.matrix([[1, 1, 0, 0], [1, -1, 0, 0],\n",
    "                   [1, 0, 1, 0], [1, 0, -1, 0], \n",
    "                   [1, 0, 0, 1], [1, 0, 0, -1]])\n",
    "DEMODMATRIX = np.linalg.inv(MODMATRIX.transpose()*MODMATRIX)*MODMATRIX.transpose()\n",
    "INT_DEMOD = np.array(DEMODMATRIX*np.matrix(I))\n",
    "M = np.zeros([4,4])\n",
    "M[:,0] = (INT_DEMOD[:,0] + INT_DEMOD[:,1])/2\n",
    "M[:,1] = (INT_DEMOD[:,0] - INT_DEMOD[:,1])/2\n",
    "M[:,2] = (INT_DEMOD[:,2] - INT_DEMOD[:,3])/2\n",
    "M[:,3] = (INT_DEMOD[:,4] - INT_DEMOD[:,5])/2\n",
    "MULL_SIM = M/M[0,0]"
   ]
  },
  {
   "cell_type": "code",
   "execution_count": 50,
   "metadata": {
    "collapsed": false
   },
   "outputs": [
    {
     "name": "stdout",
     "output_type": "stream",
     "text": [
      "From Zemax : \n",
      " [[ 1.00000 -0.04786  0.04437  0.00105]\n",
      " [-0.05858  0.94913 -0.29867  0.09551]\n",
      " [ 0.02878  0.27426  0.93974  0.19554]\n",
      " [ 0.00105 -0.14820 -0.15934  0.97385]]\n",
      "From My code : \n",
      " [[ 1.00000 -0.04786  0.04438  0.00105]\n",
      " [-0.06508  0.67794 -0.73490 -0.01715]\n",
      " [-0.00499  0.71865  0.65745  0.21693]\n",
      " [ 0.00105 -0.14820 -0.15934  0.97385]]\n"
     ]
    }
   ],
   "source": [
    "print('From Zemax : \\n', MULL_SIM)\n",
    "print('From My code : \\n', MM)"
   ]
  },
  {
   "cell_type": "code",
   "execution_count": 51,
   "metadata": {
    "collapsed": false
   },
   "outputs": [
    {
     "name": "stdout",
     "output_type": "stream",
     "text": [
      "[[ 1.00000  0.00000  0.00000 -0.00000]\n",
      " [-0.00000  0.86116 -0.50833 -0.00000]\n",
      " [-0.00000  0.50833  0.86117 -0.00001]\n",
      " [-0.00000 -0.00000 -0.00000  1.00000]]\n"
     ]
    }
   ],
   "source": [
    "RM = MM*np.linalg.inv(MULL_SIM)\n",
    "print(RM)"
   ]
  }
 ],
 "metadata": {
  "kernelspec": {
   "display_name": "Python 3",
   "language": "python",
   "name": "python3"
  },
  "language_info": {
   "codemirror_mode": {
    "name": "ipython",
    "version": 3
   },
   "file_extension": ".py",
   "mimetype": "text/x-python",
   "name": "python",
   "nbconvert_exporter": "python",
   "pygments_lexer": "ipython3",
   "version": "3.6.0"
  }
 },
 "nbformat": 4,
 "nbformat_minor": 2
}
