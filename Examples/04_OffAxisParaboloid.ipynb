{
 "cells": [
  {
   "cell_type": "markdown",
   "metadata": {},
   "source": [
    "## Off-axis paraboloid\n",
    "A source, an off-axis paraboloid and a detector create a popularly used imaging system. The spot diagram shows on-axis field rays converging to a single point, and the Mueller matrix is slightly deviated from the identity matrix as the system has no symmetry."
   ]
  },
  {
   "cell_type": "code",
   "execution_count": 1,
   "metadata": {
    "collapsed": false
   },
   "outputs": [],
   "source": [
    "%matplotlib tk\n",
    "import numpy as np\n",
    "import sys\n",
    "from matplotlib import pyplot as plt\n",
    "from mpl_toolkits.mplot3d import Axes3D\n",
    "import random as rd\n",
    "import copy as cp\n",
    "from datetime import datetime as dt\n",
    "#\n",
    "sys.path.append('..')\n",
    "from PyAstroPol import *\n",
    "roundOffDisplay(5)"
   ]
  },
  {
   "cell_type": "code",
   "execution_count": 2,
   "metadata": {
    "collapsed": false
   },
   "outputs": [],
   "source": [
    "S = Source(10000, Clear=45)                                             # Source for ray analysis\n",
    "S.rotateAboutX(180.0)                                                   # \n",
    "S.translateOrigin(z=20000.0)                                            # Adjust source position\n",
    "#\n",
    "Sd = Source(20, Clear=100.0)                                            # Source for ray display\n",
    "Sd.rotateAboutX(180.0)                                                  # \n",
    "Sd.translateOrigin(z=500.0)                                             # Adjust source position\n",
    "#\n",
    "M1 = Surface(100.0, R=1000.0, K=-1.0, Mirror=True, n2=1.1+6.8j, \n",
    "             OffAxis=True, OffAxDist=100, OffAxAz=0.0)\n",
    "#\n",
    "D = Detector(20)                                                        # Detector\n",
    "D.translateOrigin(x=-100.0, z=495)                                      # Adjust detector position"
   ]
  },
  {
   "cell_type": "code",
   "execution_count": 3,
   "metadata": {
    "collapsed": false
   },
   "outputs": [],
   "source": [
    "Sys = System(S, [M1], D, dRays=Sd)                          # Complete optical system\n",
    "Sys.propagateRays()                                         # Propagate rays through system"
   ]
  },
  {
   "cell_type": "code",
   "execution_count": 4,
   "metadata": {
    "collapsed": false
   },
   "outputs": [],
   "source": [
    "Fig = plt.figure()                                             \n",
    "Ax = Fig.add_subplot(111, projection='3d')\n",
    "Sys.draw(Ax)                                                # Draw optical system\n",
    "adjustAspect(Ax, 500, z=250)                                # Adjust 3D space "
   ]
  },
  {
   "cell_type": "code",
   "execution_count": 5,
   "metadata": {
    "collapsed": true
   },
   "outputs": [],
   "source": [
    "Fig = plt.figure()\n",
    "Ax = Fig.add_subplot(111, aspect='equal')                       \n",
    "Sys.drawSpotDiagram(Ax, s=0.1, color='r')                   # Draw spot diagram"
   ]
  },
  {
   "cell_type": "code",
   "execution_count": 6,
   "metadata": {
    "collapsed": false,
    "tags": []
   },
   "outputs": [
    {
     "output_type": "stream",
     "name": "stdout",
     "text": "System Mueller matrix is : \n [[ 1.00000 -0.00049  0.00000  0.00000]\n [-0.00049  1.00000  0.00000  0.00000]\n [-0.00000  0.00000 -1.00000  0.00300]\n [ 0.00000  0.00000 -0.00300 -1.00000]]\nTransmission coefficient is:  0.866949458514975\n"
    }
   ],
   "source": [
    "MM, Tra = Sys.getSystemMuellerMatrix()                          # Optical system's Mueller matrix\n",
    "print('System Mueller matrix is : \\n', MM)\n",
    "print('Throughput is: ', Tra)"
   ]
  }
 ],
 "metadata": {
  "kernelspec": {
   "display_name": "Python 3",
   "language": "python",
   "name": "python3"
  },
  "language_info": {
   "codemirror_mode": {
    "name": "ipython",
    "version": 3
   },
   "file_extension": ".py",
   "mimetype": "text/x-python",
   "name": "python",
   "nbconvert_exporter": "python",
   "pygments_lexer": "ipython3",
   "version": "3.6.0-final"
  }
 },
 "nbformat": 4,
 "nbformat_minor": 2
}