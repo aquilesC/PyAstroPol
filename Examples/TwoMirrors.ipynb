{
 "cells": [
  {
   "cell_type": "code",
   "execution_count": 1,
   "metadata": {
    "collapsed": false
   },
   "outputs": [],
   "source": [
    "%matplotlib tk\n",
    "import numpy as np\n",
    "import sys\n",
    "from matplotlib import pyplot as plt\n",
    "from mpl_toolkits.mplot3d import Axes3D\n",
    "import random as rd\n",
    "import copy as cp\n",
    "from datetime import datetime as dt\n",
    "sys.path.append('..')\n",
    "from PyAstroPol import *"
   ]
  },
  {
   "cell_type": "code",
   "execution_count": 2,
   "metadata": {
    "collapsed": false
   },
   "outputs": [],
   "source": [
    "S = Source(1000000, Clear=100)                                  # Source for ray analysis\n",
    "Sd = Source(20, Clear=100)                                      # Source for ray analysis\n",
    "#\n",
    "M1 = Surface(200, Mirror=True, n2=1.1+6.8j)                     # First mirror\n",
    "M1.rotateAboutX(45)                                             # Fold the mirror\n",
    "M1.translateOrigin(z=1000)                                      # Move the mirror\n",
    "#\n",
    "M2 = Surface(200, Mirror=True, n2=1.1+6.8j)                     # Second mirror\n",
    "M2.rotateAboutX(90)                                             # Rotate the mirror\n",
    "M2.rotateAboutZ(45)                                             # Fold the mirror\n",
    "M2.translateOrigin(y=1000, z=1000)                              # Move the mirror\n",
    "#\n",
    "D = Detector(150)                                               # Detector\n",
    "D.rotateAboutY(90)                                              # Rotate the detector\n",
    "D.translateOrigin(x=1000, y=1000, z=1000)                       # Move the detector"
   ]
  },
  {
   "cell_type": "code",
   "execution_count": 3,
   "metadata": {
    "collapsed": false
   },
   "outputs": [
    {
     "name": "stderr",
     "output_type": "stream",
     "text": [
      "..\\PyAstroPol\\Surface.py:219: RuntimeWarning: divide by zero encountered in true_divide\n",
      "  dplus = (-b+np.sqrt(b**2-4.0*a*c))/2.0/a\n",
      "..\\PyAstroPol\\Surface.py:220: RuntimeWarning: invalid value encountered in true_divide\n",
      "  dminus = (-b-np.sqrt(b**2-4.0*a*c))/2.0/a\n",
      "..\\PyAstroPol\\Surface.py:219: RuntimeWarning: invalid value encountered in true_divide\n",
      "  dplus = (-b+np.sqrt(b**2-4.0*a*c))/2.0/a\n",
      "..\\PyAstroPol\\Surface.py:220: RuntimeWarning: divide by zero encountered in true_divide\n",
      "  dminus = (-b-np.sqrt(b**2-4.0*a*c))/2.0/a\n",
      "..\\PyAstroPol\\Surface.py:284: RuntimeWarning: divide by zero encountered in true_divide\n",
      "  tCosines = (self.iRays.oCosines + self.nCosines*np.cos(self.iTheta))/np.sin(self.iTheta)\n",
      "..\\PyAstroPol\\Surface.py:284: RuntimeWarning: invalid value encountered in true_divide\n",
      "  tCosines = (self.iRays.oCosines + self.nCosines*np.cos(self.iTheta))/np.sin(self.iTheta)\n"
     ]
    }
   ],
   "source": [
    "Sys = System(S, [M1, M2], D, dRays=Sd)                          # Complete optical system\n",
    "Sys.propagateRays()                                             # Propagate rays through system\n",
    "#\n",
    "Fig = plt.figure()                                             \n",
    "Ax = Fig.add_subplot(111, projection='3d')\n",
    "Sys.draw(Ax)                                                    # Draw optical system\n",
    "adjustAspect(Ax, 2000, x=500, y=500, z=500)                     # Adjust 3D space "
   ]
  },
  {
   "cell_type": "markdown",
   "metadata": {},
   "source": [
    "### Mueller matrix"
   ]
  },
  {
   "cell_type": "code",
   "execution_count": 4,
   "metadata": {
    "collapsed": false
   },
   "outputs": [
    {
     "name": "stderr",
     "output_type": "stream",
     "text": [
      "..\\PyAstroPol\\Surface.py:219: RuntimeWarning: divide by zero encountered in true_divide\n",
      "  dplus = (-b+np.sqrt(b**2-4.0*a*c))/2.0/a\n",
      "..\\PyAstroPol\\Surface.py:220: RuntimeWarning: invalid value encountered in true_divide\n",
      "  dminus = (-b-np.sqrt(b**2-4.0*a*c))/2.0/a\n",
      "..\\PyAstroPol\\Surface.py:219: RuntimeWarning: invalid value encountered in true_divide\n",
      "  dplus = (-b+np.sqrt(b**2-4.0*a*c))/2.0/a\n",
      "..\\PyAstroPol\\Surface.py:220: RuntimeWarning: divide by zero encountered in true_divide\n",
      "  dminus = (-b-np.sqrt(b**2-4.0*a*c))/2.0/a\n"
     ]
    },
    {
     "name": "stdout",
     "output_type": "stream",
     "text": [
      "System Mueller matrix is : \n",
      " [[ 1.00000000e+00  0.00000000e+00 -2.29635347e-18 -4.61221184e-19]\n",
      " [ 0.00000000e+00  1.00000000e+00 -1.51923721e-16 -1.51096082e-17]\n",
      " [ 4.13691097e-15  1.47746820e-16  1.00000000e+00  1.48208041e-16]\n",
      " [ 3.98916415e-15  0.00000000e+00  2.29635347e-18  1.00000000e+00]]\n",
      "Transmission coefficient is:  0.8262127895994548\n"
     ]
    }
   ],
   "source": [
    "MM, Tra = Sys.getSystemMuellerMatrix()                          # Optical system's Mueller matrix\n",
    "print('System Mueller matrix is : \\n', MM)\n",
    "print('Transmission coefficient is: ', Tra)"
   ]
  }
 ],
 "metadata": {
  "kernelspec": {
   "display_name": "Python 3",
   "language": "python",
   "name": "python3"
  },
  "language_info": {
   "codemirror_mode": {
    "name": "ipython",
    "version": 3
   },
   "file_extension": ".py",
   "mimetype": "text/x-python",
   "name": "python",
   "nbconvert_exporter": "python",
   "pygments_lexer": "ipython3",
   "version": "3.6.0"
  }
 },
 "nbformat": 4,
 "nbformat_minor": 2
}
