{
 "cells": [
  {
   "cell_type": "code",
   "execution_count": 1,
   "metadata": {
    "collapsed": false
   },
   "outputs": [],
   "source": [
    "%matplotlib tk\n",
    "import numpy as np\n",
    "import sys\n",
    "from matplotlib import pyplot as plt\n",
    "from mpl_toolkits.mplot3d import Axes3D\n",
    "import random as rd\n",
    "import copy as cp\n",
    "from datetime import datetime as dt\n",
    "sys.path.append('..')\n",
    "from PyAstroPol import *\n",
    "roundOffDisplay(5)"
   ]
  },
  {
   "cell_type": "code",
   "execution_count": 2,
   "metadata": {
    "collapsed": false
   },
   "outputs": [],
   "source": [
    "S = Source(100, Clear=100)                                  # Source for ray analysis\n",
    "Sd = Source(20, Clear=100)                                  # Source for ray analysis\n",
    "S.Wavelength = 0.633\n",
    "Sd.Wavelength = 0.633\n",
    "C = Coating([2.16-7.18j, 1.67, 1.2, 1.67, 1.2], \n",
    "            [0.100, 0.100, 0.100, 0.1, 0.1])                # Define coatingThroughput\n",
    "#\n",
    "M1 = Surface(200, Mirror=True, n2=2.16-7.18j)               # Mirror substrate\n",
    "M1.rotateAboutX(45)                                         # Fold the mirror\n",
    "M1.translateOrigin(z=1000)                                  # Move the mirror\n",
    "M1.Coating = C                                              # Apply coating to M1\n",
    "#\n",
    "D = Detector(100)\n",
    "D.rotateAboutX(90)                                          # Rotate the detector\n",
    "D.translateOrigin(y=1000, z=1000)                           # Move the detector"
   ]
  },
  {
   "cell_type": "code",
   "execution_count": 3,
   "metadata": {
    "collapsed": false,
    "tags": []
   },
   "outputs": [],
   "source": [
    "Sys = System(S, [M1], D, dRays=Sd)                          # Complete optical system\n",
    "Sys.propagateRays()                                         # Propagate rays through system"
   ]
  },
  {
   "cell_type": "code",
   "execution_count": 6,
   "metadata": {
    "collapsed": false,
    "tags": []
   },
   "outputs": [],
   "source": [
    "Fig = plt.figure()                                             \n",
    "Ax = Fig.add_subplot(111, projection='3d')\n",
    "Sys.draw(Ax)                                                # Draw optical system\n",
    "adjustAspect(Ax, 2000, y=500, z=500)                        # Adjust 3D space "
   ]
  },
  {
   "cell_type": "code",
   "execution_count": 7,
   "metadata": {
    "collapsed": false,
    "tags": []
   },
   "outputs": [
    {
     "output_type": "stream",
     "name": "stdout",
     "text": "System Mueller matrix is : \n [[ 1.00000 -0.07754  0.00000  0.00000]\n [-0.07754  1.00000 -0.00000  0.00000]\n [ 0.00000 -0.00000 -0.88864  0.45200]\n [ 0.00000 -0.00000 -0.45200 -0.88864]]\nThroughput is:  0.6051645828331274\n"
    }
   ],
   "source": [
    "MM, Tra = Sys.getSystemMuellerMatrix()                      # Optical system's Mueller matrix\n",
    "print('System Mueller matrix is : \\n', MM)\n",
    "print('Throughput is: ', Tra)"
   ]
  }
 ],
 "metadata": {
  "kernelspec": {
   "display_name": "Python 3.6.0 64-bit ('root': conda)",
   "language": "python",
   "name": "python36064bitrootcondaef808cd3fdd043d29c1ece0fb194e78a"
  },
  "language_info": {
   "codemirror_mode": {
    "name": "ipython",
    "version": 3
   },
   "file_extension": ".py",
   "mimetype": "text/x-python",
   "name": "python",
   "nbconvert_exporter": "python",
   "pygments_lexer": "ipython3",
   "version": "3.6.0-final"
  }
 },
 "nbformat": 4,
 "nbformat_minor": 2
}