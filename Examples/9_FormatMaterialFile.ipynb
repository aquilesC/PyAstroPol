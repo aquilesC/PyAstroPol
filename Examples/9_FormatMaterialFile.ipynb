{
 "cells": [
  {
   "cell_type": "code",
   "execution_count": 8,
   "metadata": {
    "collapsed": true
   },
   "outputs": [],
   "source": [
    "%matplotlib tk\n",
    "import numpy as np\n",
    "import sys\n",
    "from matplotlib import pyplot as plt\n",
    "from mpl_toolkits.mplot3d import Axes3D\n",
    "import random as rd\n",
    "import copy as cp\n",
    "from datetime import datetime as dt\n",
    "#\n",
    "sys.path.append('..')\n",
    "from PyAstroPol import *\n",
    "roundOffDisplay(5)"
   ]
  },
  {
   "cell_type": "code",
   "execution_count": 18,
   "metadata": {
    "collapsed": false
   },
   "outputs": [],
   "source": [
    "Name = 'Al'\n",
    "formatMaterialFile(Name)\n",
    "Data = np.loadtxt('../Materials/'+ str(Name) + '.csv', delimiter=',')\n",
    "W, N, K = Data[:,0], Data[:,1], Data[:,2]\n",
    "Fig, Ax = plt.subplots(1, 1, figsize=(10,6))\n",
    "Ax2 = Ax.twinx()\n",
    "Ax.plot(W, N, color='r', label='n')\n",
    "Ax.set_xlabel(r'Wavelength in $\\AA$')\n",
    "Ax.set_ylabel('n (red)')\n",
    "Ax2.plot(W, K, color='k', label='k')\n",
    "Ax2.set_ylabel('k (black)')\n",
    "Fig.tight_layout()"
   ]
  }
 ],
 "metadata": {
  "kernelspec": {
   "display_name": "Python 3",
   "language": "python",
   "name": "python3"
  },
  "language_info": {
   "codemirror_mode": {
    "name": "ipython",
    "version": 3
   },
   "file_extension": ".py",
   "mimetype": "text/x-python",
   "name": "python",
   "nbconvert_exporter": "python",
   "pygments_lexer": "ipython3",
   "version": "3.6.0"
  }
 },
 "nbformat": 4,
 "nbformat_minor": 2
}
