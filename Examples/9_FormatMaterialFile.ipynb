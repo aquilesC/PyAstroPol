{
 "cells": [
  {
   "cell_type": "code",
   "execution_count": 1,
   "metadata": {
    "collapsed": true
   },
   "outputs": [],
   "source": [
    "%matplotlib tk\n",
    "import numpy as np\n",
    "import sys\n",
    "from matplotlib import pyplot as plt\n",
    "from mpl_toolkits.mplot3d import Axes3D\n",
    "import random as rd\n",
    "import copy as cp\n",
    "from datetime import datetime as dt\n",
    "#\n",
    "sys.path.append('..')\n",
    "from PyAstroPol import *\n",
    "roundOffDisplay(5)"
   ]
  },
  {
   "cell_type": "markdown",
   "metadata": {},
   "source": [
    "- https://refractiveindex.info/ has a collection of refractive indices of various materials as function of wavelength. \n",
    "- Use the feature 'Download as CSV' at the bottom right corner of the plot. \n",
    "- Rename the CSV file to a name you wish to use as 'MaterialName' while scripting. For e.g., file with SCHOTT BK7 glass information should be ideally named 'N-BK7.csv'\n",
    "- Place the file in the folder ```<Directory>/PyAstroPol/Materials/```\n",
    "- Then use the function as showed below to modify the file to be compliant with ```PyAstroPol```\n",
    "- Note that the missing data is filled by interpolation using ```np.interp``` fucntion. Pitfalls of that function, if any, must be observed!"
   ]
  },
  {
   "cell_type": "code",
   "execution_count": 2,
   "metadata": {
    "collapsed": false
   },
   "outputs": [],
   "source": [
    "Name = 'N-BK7'                  # Material name/file name                                                          \n",
    "formatMaterialFile(Name)        # Edit the file to be compliant with this package"
   ]
  },
  {
   "cell_type": "code",
   "execution_count": 3,
   "metadata": {
    "collapsed": true
   },
   "outputs": [],
   "source": [
    "Name = 'N-BAF10'\n",
    "Data = np.loadtxt('../Materials/'+ str(Name) + '.csv', delimiter=',')\n",
    "W, N, K = Data[:,0], Data[:,1], Data[:,2]\n",
    "Fig, Ax = plt.subplots(1, 1, figsize=(10,6))\n",
    "Ax2 = Ax.twinx()\n",
    "Ax.plot(W, N, color='r', label='n')\n",
    "Ax.set_xlabel(r'Wavelength in $\\AA$')\n",
    "Ax.set_ylabel('n')\n",
    "Ax.legend(['n'], loc='upper left')\n",
    "Ax2.plot(W, K, color='k', label='k')\n",
    "Ax2.set_ylabel('k')\n",
    "Ax2.legend(['k'], loc='upper right')\n",
    "Fig.tight_layout()"
   ]
  }
 ],
 "metadata": {
  "kernelspec": {
   "display_name": "Python 3",
   "language": "python",
   "name": "python3"
  },
  "language_info": {
   "codemirror_mode": {
    "name": "ipython",
    "version": 3
   },
   "file_extension": ".py",
   "mimetype": "text/x-python",
   "name": "python",
   "nbconvert_exporter": "python",
   "pygments_lexer": "ipython3",
   "version": "3.6.0"
  }
 },
 "nbformat": 4,
 "nbformat_minor": 2
}
