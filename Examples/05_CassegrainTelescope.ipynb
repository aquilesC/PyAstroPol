{
 "cells": [
  {
   "cell_type": "markdown",
   "metadata": {},
   "source": [
    "## Cassagrain telescope\n",
    "The system consists of a source, parabolic primary mirror with central hole, hyperbolic secondary mirror and a detector at Cassagrain  focus. As the mirror parameters are not optimized, spot diagram shows not-to-a-point convergence. The Mueller matrix for the on-axis field is identity as the system is axially symmetric.  "
   ]
  },
  {
   "cell_type": "code",
   "execution_count": 1,
   "metadata": {
    "collapsed": false
   },
   "outputs": [],
   "source": [
    "%matplotlib tk\n",
    "import numpy as np\n",
    "import sys\n",
    "from matplotlib import pyplot as plt\n",
    "from mpl_toolkits.mplot3d import Axes3D\n",
    "import random as rd\n",
    "import copy as cp\n",
    "from datetime import datetime as dt\n",
    "#\n",
    "sys.path.append('..')\n",
    "from PyAstroPol import *\n",
    "roundOffDisplay(5)"
   ]
  },
  {
   "cell_type": "code",
   "execution_count": 2,
   "metadata": {
    "collapsed": false
   },
   "outputs": [],
   "source": [
    "S = Source(10000, Clear=180)                                    # Source for ray analysis\n",
    "Sd = Source(20, Clear=180)                                      # Source for ray display\n",
    "#\n",
    "M1 = Surface(200, R=-2000, K=-1.0, \n",
    "             Mirror=True, n2=1.1+6.8j, iDia=40)                 # Primary mirror with hole\n",
    "M1.translateOrigin(z=1000)\n",
    "#\n",
    "M2 = Surface(100, R=-500, K=-1.01,\n",
    "             Mirror=True, n2=1.1+6.8j)                          # Secondary mirror with hole\n",
    "M2.translateOrigin(z=200)\n",
    "#\n",
    "D = Detector(10)                                                # Detector\n",
    "D.translateOrigin(z=1200)                                       # Adjust the position"
   ]
  },
  {
   "cell_type": "code",
   "execution_count": 3,
   "metadata": {
    "collapsed": false
   },
   "outputs": [],
   "source": [
    "Sys = System(S, [M1, M2], D, dRays=Sd)                          # Complete optical system\n",
    "Sys.propagateRays()"
   ]
  },
  {
   "cell_type": "code",
   "execution_count": 4,
   "metadata": {
    "collapsed": false
   },
   "outputs": [],
   "source": [
    "Fig = plt.figure()                                             \n",
    "Ax = Fig.add_subplot(111, projection='3d')\n",
    "Sys.draw(Ax)                                                    # Draw optical system\n",
    "Sys.Components[0].drawPolarizationDirection(Ax, 10)\n",
    "adjustAspect(Ax, 1200, z=600)                                   # Adjust 3D space"
   ]
  },
  {
   "cell_type": "code",
   "execution_count": 5,
   "metadata": {
    "collapsed": true
   },
   "outputs": [],
   "source": [
    "Fig = plt.figure()\n",
    "Ax = Fig.add_subplot(111, aspect='equal')                       \n",
    "Sys.drawSpotDiagram(Ax, s=0.1, color='r')                   # Draw spot diagram"
   ]
  },
  {
   "cell_type": "code",
   "execution_count": 6,
   "metadata": {
    "collapsed": false,
    "tags": []
   },
   "outputs": [
    {
     "output_type": "stream",
     "name": "stdout",
     "text": "System Mueller matrix is : \n [[ 1.00000  0.00000  0.00000  0.00000]\n [ 0.00000  1.00000  0.00000  0.00000]\n [ 0.00000  0.00000  1.00000 -0.00000]\n [ 0.00000 -0.00000 -0.00000  1.00000]]\nThroughput is:  0.7545698896027908\n"
    }
   ],
   "source": [
    "MM, Tra = Sys.getSystemMuellerMatrix()                          # Optical system's Mueller matrix\n",
    "print('System Mueller matrix is : \\n', MM)\n",
    "print('Throughput is: ', Tra)"
   ]
  }
 ],
 "metadata": {
  "kernelspec": {
   "display_name": "Python 3",
   "language": "python",
   "name": "python3"
  },
  "language_info": {
   "codemirror_mode": {
    "name": "ipython",
    "version": 3
   },
   "file_extension": ".py",
   "mimetype": "text/x-python",
   "name": "python",
   "nbconvert_exporter": "python",
   "pygments_lexer": "ipython3",
   "version": "3.6.0-final"
  }
 },
 "nbformat": 4,
 "nbformat_minor": 2
}