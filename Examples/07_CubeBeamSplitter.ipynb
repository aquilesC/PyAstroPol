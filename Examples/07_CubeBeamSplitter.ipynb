{
 "cells": [
  {
   "cell_type": "code",
   "execution_count": 1,
   "metadata": {
    "collapsed": false
   },
   "outputs": [],
   "source": [
    "%matplotlib tk\n",
    "import numpy as np\n",
    "import sys\n",
    "from matplotlib import pyplot as plt\n",
    "from mpl_toolkits.mplot3d import Axes3D\n",
    "import random as rd\n",
    "import copy as cp\n",
    "from datetime import datetime as dt\n",
    "#\n",
    "sys.path.append('..')\n",
    "from PyAstroPol import *\n",
    "roundOffDisplay(5)"
   ]
  },
  {
   "cell_type": "code",
   "execution_count": 2,
   "metadata": {
    "collapsed": false
   },
   "outputs": [],
   "source": [
    "Source_analysis = Source(10000, Clear=40)                       # Source for ray analysis\n",
    "Source_analysis.translateOrigin(z=-100)                         # Adjust source position\n",
    "#\n",
    "Source_display = Source(20, Clear=40)                           # Source for ray display\n",
    "Source_display.translateOrigin(z=-100)                          # Adjust source (display) position\n",
    "#\n",
    "Lens_1 = UncoatedLens(50, 10, R1=400, R2=-400, n=2.05)          # Lens\n",
    "#\n",
    "FrontSurf = Surface(60, n1=1.0, n2=1.6)                         # Front surface\n",
    "FrontSurf.translateOrigin(z=100)                              \n",
    "MiddleSurf = Surface(60, n1=1.6, n2=1.6)                        # Middle transmitting surface\n",
    "MiddleSurf.rotateAboutX(45)\n",
    "MiddleSurf.translateOrigin(z=130)\n",
    "FoldingSurf = Surface(60, n1=1.6, n2=1.1+6.8j, Mirror=True)     # Middle reflecting surface\n",
    "FoldingSurf.rotateAboutX(45)\n",
    "FoldingSurf.translateOrigin(z=130)\n",
    "BackSurf = Surface(60, n1=1.6, n2=1.0)                          # Back surface\n",
    "BackSurf.translateOrigin(z=160)\n",
    "SideSurf = Surface(60, n1=1.6, n2=1.0)                          # Side surface\n",
    "SideSurf.rotateAboutX(90)\n",
    "SideSurf.translateOrigin(y=30, z=130)\n",
    "#\n",
    "Detector_1 = Detector(20)                                       # Detector\n",
    "Detector_1.translateOrigin(z=215)                               # Adjust detector position\n",
    "Detector_2 = Detector(20)                                       # Second detector\n",
    "Detector_2.rotateAboutX(90)                                     # Adjust the detector orientation\n",
    "Detector_2.translateOrigin(z=130, y=85)                         # Adjust the detector position"
   ]
  },
  {
   "cell_type": "code",
   "execution_count": 3,
   "metadata": {
    "collapsed": false
   },
   "outputs": [],
   "source": [
    "# Transmitting part\n",
    "Sys = System(Source_analysis, [Lens_1, FrontSurf, MiddleSurf, BackSurf], \n",
    "             Detector_1, dRays=Source_display)                          # Complete optical system\n",
    "Sys.propagateRays()                                                     # Propagate rays through system\n",
    "# Reflecting part\n",
    "Sys2 = System(Source_analysis, [Lens_1, FrontSurf, FoldingSurf, SideSurf], \n",
    "             Detector_2, dRays=Source_display)                          # Complete optical system\n",
    "Sys2.propagateRays()                                                    # Propagate rays through system"
   ]
  },
  {
   "cell_type": "code",
   "execution_count": 4,
   "metadata": {
    "collapsed": false
   },
   "outputs": [],
   "source": [
    "Fig = plt.figure()                                             \n",
    "Ax = Fig.add_subplot(111, projection='3d')\n",
    "Sys.draw(Ax)                                                # Draw optical system\n",
    "Sys2.draw(Ax)\n",
    "adjustAspect(Ax, 600, z=100)                                # Adjust 3D space"
   ]
  },
  {
   "cell_type": "code",
   "execution_count": 5,
   "metadata": {
    "collapsed": false
   },
   "outputs": [],
   "source": [
    "Fig = plt.figure()\n",
    "Ax = Fig.add_subplot(111, aspect='equal')                       \n",
    "Sys.drawSpotDiagram(Ax, s=0.1, color='r')                   # Draw spot diagram\n",
    "Fig = plt.figure()\n",
    "Ax = Fig.add_subplot(111, aspect='equal') \n",
    "Sys2.drawSpotDiagram(Ax, s=0.1, color='b')                  # Draw spot diagram"
   ]
  },
  {
   "cell_type": "code",
   "execution_count": 6,
   "metadata": {
    "collapsed": false,
    "tags": []
   },
   "outputs": [
    {
     "output_type": "stream",
     "name": "stdout",
     "text": "System Mueller matrix is : \n [[ 1.00000  0.04963  0.00000  0.00000]\n [ 0.04963  1.00000  0.00000  0.00000]\n [-0.00000  0.00000 -0.94802 -0.31431]\n [ 0.00000 -0.00000  0.31431 -0.94802]]\nThroughput is:  0.5988453705253568\n"
    }
   ],
   "source": [
    "MM, Tra = Sys2.getSystemMuellerMatrix()                     # Optical system's Mueller matrix\n",
    "print('System Mueller matrix is : \\n', MM)\n",
    "print('Throughput is: ', Tra)  "
   ]
  }
 ],
 "metadata": {
  "kernelspec": {
   "display_name": "Python 3",
   "language": "python",
   "name": "python3"
  },
  "language_info": {
   "codemirror_mode": {
    "name": "ipython",
    "version": 3
   },
   "file_extension": ".py",
   "mimetype": "text/x-python",
   "name": "python",
   "nbconvert_exporter": "python",
   "pygments_lexer": "ipython3",
   "version": "3.6.0-final"
  }
 },
 "nbformat": 4,
 "nbformat_minor": 2
}