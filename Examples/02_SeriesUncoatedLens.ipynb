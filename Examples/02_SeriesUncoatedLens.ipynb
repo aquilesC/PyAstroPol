{
 "cells": [
  {
   "cell_type": "code",
   "execution_count": 1,
   "metadata": {
    "collapsed": true
   },
   "outputs": [],
   "source": [
    "%matplotlib tk\n",
    "import numpy as np\n",
    "import sys\n",
    "from matplotlib import pyplot as plt\n",
    "from mpl_toolkits.mplot3d import Axes3D\n",
    "import random as rd\n",
    "import copy as cp\n",
    "from datetime import datetime as dt\n",
    "#\n",
    "sys.path.append('..')\n",
    "from PyAstroPol import *"
   ]
  },
  {
   "cell_type": "code",
   "execution_count": 2,
   "metadata": {
    "collapsed": false
   },
   "outputs": [],
   "source": [
    "Source_analysis = Source(10000, Clear=40)                               # Source for ray analysis\n",
    "Source_analysis.translateOrigin(z=-100)                                 # Adjust source position\n",
    "#\n",
    "Source_display = Source(20, Clear=40)                                   # Source for ray display\n",
    "Source_display.translateOrigin(z=-100)                                  # Adjust source (display) position\n",
    "#\n",
    "Lens_1 = UncoatedLens(50, 10, R1=200, R2=-200, n=2.05)                  # Lens\n",
    "Lens_2 = UncoatedLens(50, 10, R1=200, R2=-200, n=2.05)                  # Lens\n",
    "Lens_2.translateOrigin(z=200)\n",
    "Lens_3 = UncoatedLens(50, 10, R1=200, R2=-200, n=2.05)                  # Lens\n",
    "Lens_3.translateOrigin(z=300)\n",
    "#\n",
    "Detector_1 = Detector(20)                                               # Detector\n",
    "Detector_1.translateOrigin(z=390)                                       # Adjust detector position"
   ]
  },
  {
   "cell_type": "code",
   "execution_count": 3,
   "metadata": {
    "collapsed": false
   },
   "outputs": [],
   "source": [
    "Sys = System(Source_analysis, [Lens_1, Lens_2, Lens_3], \n",
    "             Detector_1, dRays=Source_display)                               # Complete optical system\n",
    "Sys.propagateRays()                                                          # Propagate rays through system"
   ]
  },
  {
   "cell_type": "code",
   "execution_count": 4,
   "metadata": {
    "collapsed": false
   },
   "outputs": [],
   "source": [
    "Fig = plt.figure()                                             # Create figure\n",
    "Ax = Fig.add_subplot(111, projection='3d')                     # Figure 3d projection\n",
    "Sys.draw(Ax)                                                   # Draw optical system\n",
    "adjustAspect(Ax, 600, z=200)                                   # Adjust 3D space"
   ]
  },
  {
   "cell_type": "code",
   "execution_count": 5,
   "metadata": {
    "collapsed": true
   },
   "outputs": [],
   "source": [
    "Fig = plt.figure()\n",
    "Ax = Fig.add_subplot(111, aspect='equal')                       \n",
    "Sys.drawSpotDiagram(Ax, s=0.1, color='r')                   # Draw spot diagram"
   ]
  },
  {
   "cell_type": "code",
   "execution_count": 6,
   "metadata": {
    "collapsed": false,
    "tags": []
   },
   "outputs": [
    {
     "output_type": "stream",
     "name": "stdout",
     "text": "System Mueller matrix is : \n [[ 1.00000000e+00  0.00000000e+00  0.00000000e+00  1.58875964e-16]\n [ 0.00000000e+00  1.00000000e+00 -1.58875964e-16  0.00000000e+00]\n [-1.31724828e-18 -3.14670349e-18  1.00000000e+00  1.58449853e-18]\n [ 0.00000000e+00  0.00000000e+00  0.00000000e+00  1.00000000e+00]]\nTransmission coefficient is:  0.4689558065272939\n"
    }
   ],
   "source": [
    "MM, Tra = Sys.getSystemMuellerMatrix()                      # Optical system's Mueller matrix\n",
    "print('System Mueller matrix is : \\n', MM)\n",
    "print('Transmission coefficient is: ', Tra)  "
   ]
  }
 ],
 "metadata": {
  "kernelspec": {
   "display_name": "Python 3.6.0 64-bit ('root': conda)",
   "language": "python",
   "name": "python36064bitrootcondaef808cd3fdd043d29c1ece0fb194e78a"
  },
  "language_info": {
   "codemirror_mode": {
    "name": "ipython",
    "version": 3
   },
   "file_extension": ".py",
   "mimetype": "text/x-python",
   "name": "python",
   "nbconvert_exporter": "python",
   "pygments_lexer": "ipython3",
   "version": "3.6.0-final"
  }
 },
 "nbformat": 4,
 "nbformat_minor": 2
}